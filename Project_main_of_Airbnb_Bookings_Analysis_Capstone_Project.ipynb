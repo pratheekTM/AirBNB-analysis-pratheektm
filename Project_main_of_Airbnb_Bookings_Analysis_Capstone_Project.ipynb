{
  "nbformat": 4,
  "nbformat_minor": 0,
  "metadata": {
    "kernelspec": {
      "display_name": "Python 3",
      "language": "python",
      "name": "python3"
    },
    "language_info": {
      "codemirror_mode": {
        "name": "ipython",
        "version": 3
      },
      "file_extension": ".py",
      "mimetype": "text/x-python",
      "name": "python",
      "nbconvert_exporter": "python",
      "pygments_lexer": "ipython3",
      "version": "3.6.6"
    },
    "colab": {
      "name": "Project main of Airbnb Bookings Analysis - Capstone Project.ipynb",
      "provenance": [],
      "collapsed_sections": []
    }
  },
  "cells": [
    {
      "cell_type": "markdown",
      "metadata": {
        "id": "Y06xIdG26kRF"
      },
      "source": [
        "## <b> Since 2008, guests and hosts have used Airbnb to expand on traveling possibilities and present a more unique, personalized way of experiencing the world. Today, Airbnb became one of a kind service that is used and recognized by the whole world. Data analysis on millions of listings provided through Airbnb is a crucial factor for the company. These millions of listings generate a lot of data - data that can be analyzed and used for security, business decisions, understanding of customers' and providers' (hosts) behavior and performance on the platform, guiding marketing initiatives, implementation of innovative additional services and much more. </b>\n",
        "\n",
        "## <b>This dataset has around 49,000 observations in it with 16 columns and it is a mix between categorical and numeric values. </b>\n",
        "\n",
        "## <b> Explore and analyze the data to discover key understandings (not limited to these) such as : \n",
        "* What can we learn about different hosts and areas?\n",
        "* What can we learn from predictions? (ex: locations, prices, reviews, etc)\n",
        "* Which hosts are the busiest and why?\n",
        "* Is there any noticeable difference of traffic among different areas and what could be the reason for it? </b>"
      ]
    },
    {
      "cell_type": "markdown",
      "source": [
        "#### 1. Mounting drive"
      ],
      "metadata": {
        "id": "s6sSNMY7YeM5"
      }
    },
    {
      "cell_type": "code",
      "source": [
        "from google.colab import drive\n",
        "drive.mount('/content/drive')"
      ],
      "metadata": {
        "colab": {
          "base_uri": "https://localhost:8080/"
        },
        "id": "QDRDWR-NvfLQ",
        "outputId": "68c6893a-b0db-48a0-ab07-a5769344bc24"
      },
      "execution_count": 215,
      "outputs": [
        {
          "output_type": "stream",
          "name": "stdout",
          "text": [
            "Drive already mounted at /content/drive; to attempt to forcibly remount, call drive.mount(\"/content/drive\", force_remount=True).\n"
          ]
        }
      ]
    },
    {
      "cell_type": "markdown",
      "source": [
        "#### 2. Importing required Libraries"
      ],
      "metadata": {
        "id": "IVchO6U2Y8Ye"
      }
    },
    {
      "cell_type": "code",
      "source": [
        "import pandas as pd\n",
        "import numpy as np\n",
        "import matplotlib.pyplot as plt\n",
        "import seaborn as sns\n",
        "import missingno as msno\n",
        "import warnings\n",
        "from tabulate import tabulate\n",
        "warnings.filterwarnings('ignore')\n",
        "%matplotlib inline"
      ],
      "metadata": {
        "id": "0ynSUaDiv94G"
      },
      "execution_count": 216,
      "outputs": []
    },
    {
      "cell_type": "markdown",
      "source": [
        "#### 3.Creating DataFrame and Exploring its DataTypes"
      ],
      "metadata": {
        "id": "edokhI11ZGCG"
      }
    },
    {
      "cell_type": "code",
      "source": [
        "airbnb_df = pd.read_csv('/content/drive/MyDrive/Airbnb NYC 2019.csv')"
      ],
      "metadata": {
        "id": "wX8N257lvFoE"
      },
      "execution_count": 217,
      "outputs": []
    },
    {
      "cell_type": "code",
      "source": [
        "airbnb_df.head(3)"
      ],
      "metadata": {
        "colab": {
          "base_uri": "https://localhost:8080/",
          "height": 312
        },
        "id": "h8oatyzEvGH8",
        "outputId": "d42ebc44-561a-477f-ec1d-81de27590511"
      },
      "execution_count": 218,
      "outputs": [
        {
          "output_type": "execute_result",
          "data": {
            "text/html": [
              "\n",
              "  <div id=\"df-d140ce7b-5378-4a3f-bd2e-ab78e20a7c63\">\n",
              "    <div class=\"colab-df-container\">\n",
              "      <div>\n",
              "<style scoped>\n",
              "    .dataframe tbody tr th:only-of-type {\n",
              "        vertical-align: middle;\n",
              "    }\n",
              "\n",
              "    .dataframe tbody tr th {\n",
              "        vertical-align: top;\n",
              "    }\n",
              "\n",
              "    .dataframe thead th {\n",
              "        text-align: right;\n",
              "    }\n",
              "</style>\n",
              "<table border=\"1\" class=\"dataframe\">\n",
              "  <thead>\n",
              "    <tr style=\"text-align: right;\">\n",
              "      <th></th>\n",
              "      <th>id</th>\n",
              "      <th>name</th>\n",
              "      <th>host_id</th>\n",
              "      <th>host_name</th>\n",
              "      <th>neighbourhood_group</th>\n",
              "      <th>neighbourhood</th>\n",
              "      <th>latitude</th>\n",
              "      <th>longitude</th>\n",
              "      <th>room_type</th>\n",
              "      <th>price</th>\n",
              "      <th>minimum_nights</th>\n",
              "      <th>number_of_reviews</th>\n",
              "      <th>last_review</th>\n",
              "      <th>reviews_per_month</th>\n",
              "      <th>calculated_host_listings_count</th>\n",
              "      <th>availability_365</th>\n",
              "    </tr>\n",
              "  </thead>\n",
              "  <tbody>\n",
              "    <tr>\n",
              "      <th>0</th>\n",
              "      <td>2539</td>\n",
              "      <td>Clean &amp; quiet apt home by the park</td>\n",
              "      <td>2787</td>\n",
              "      <td>John</td>\n",
              "      <td>Brooklyn</td>\n",
              "      <td>Kensington</td>\n",
              "      <td>40.64749</td>\n",
              "      <td>-73.97237</td>\n",
              "      <td>Private room</td>\n",
              "      <td>149</td>\n",
              "      <td>1</td>\n",
              "      <td>9</td>\n",
              "      <td>2018-10-19</td>\n",
              "      <td>0.21</td>\n",
              "      <td>6</td>\n",
              "      <td>365</td>\n",
              "    </tr>\n",
              "    <tr>\n",
              "      <th>1</th>\n",
              "      <td>2595</td>\n",
              "      <td>Skylit Midtown Castle</td>\n",
              "      <td>2845</td>\n",
              "      <td>Jennifer</td>\n",
              "      <td>Manhattan</td>\n",
              "      <td>Midtown</td>\n",
              "      <td>40.75362</td>\n",
              "      <td>-73.98377</td>\n",
              "      <td>Entire home/apt</td>\n",
              "      <td>225</td>\n",
              "      <td>1</td>\n",
              "      <td>45</td>\n",
              "      <td>2019-05-21</td>\n",
              "      <td>0.38</td>\n",
              "      <td>2</td>\n",
              "      <td>355</td>\n",
              "    </tr>\n",
              "    <tr>\n",
              "      <th>2</th>\n",
              "      <td>3647</td>\n",
              "      <td>THE VILLAGE OF HARLEM....NEW YORK !</td>\n",
              "      <td>4632</td>\n",
              "      <td>Elisabeth</td>\n",
              "      <td>Manhattan</td>\n",
              "      <td>Harlem</td>\n",
              "      <td>40.80902</td>\n",
              "      <td>-73.94190</td>\n",
              "      <td>Private room</td>\n",
              "      <td>150</td>\n",
              "      <td>3</td>\n",
              "      <td>0</td>\n",
              "      <td>NaN</td>\n",
              "      <td>NaN</td>\n",
              "      <td>1</td>\n",
              "      <td>365</td>\n",
              "    </tr>\n",
              "  </tbody>\n",
              "</table>\n",
              "</div>\n",
              "      <button class=\"colab-df-convert\" onclick=\"convertToInteractive('df-d140ce7b-5378-4a3f-bd2e-ab78e20a7c63')\"\n",
              "              title=\"Convert this dataframe to an interactive table.\"\n",
              "              style=\"display:none;\">\n",
              "        \n",
              "  <svg xmlns=\"http://www.w3.org/2000/svg\" height=\"24px\"viewBox=\"0 0 24 24\"\n",
              "       width=\"24px\">\n",
              "    <path d=\"M0 0h24v24H0V0z\" fill=\"none\"/>\n",
              "    <path d=\"M18.56 5.44l.94 2.06.94-2.06 2.06-.94-2.06-.94-.94-2.06-.94 2.06-2.06.94zm-11 1L8.5 8.5l.94-2.06 2.06-.94-2.06-.94L8.5 2.5l-.94 2.06-2.06.94zm10 10l.94 2.06.94-2.06 2.06-.94-2.06-.94-.94-2.06-.94 2.06-2.06.94z\"/><path d=\"M17.41 7.96l-1.37-1.37c-.4-.4-.92-.59-1.43-.59-.52 0-1.04.2-1.43.59L10.3 9.45l-7.72 7.72c-.78.78-.78 2.05 0 2.83L4 21.41c.39.39.9.59 1.41.59.51 0 1.02-.2 1.41-.59l7.78-7.78 2.81-2.81c.8-.78.8-2.07 0-2.86zM5.41 20L4 18.59l7.72-7.72 1.47 1.35L5.41 20z\"/>\n",
              "  </svg>\n",
              "      </button>\n",
              "      \n",
              "  <style>\n",
              "    .colab-df-container {\n",
              "      display:flex;\n",
              "      flex-wrap:wrap;\n",
              "      gap: 12px;\n",
              "    }\n",
              "\n",
              "    .colab-df-convert {\n",
              "      background-color: #E8F0FE;\n",
              "      border: none;\n",
              "      border-radius: 50%;\n",
              "      cursor: pointer;\n",
              "      display: none;\n",
              "      fill: #1967D2;\n",
              "      height: 32px;\n",
              "      padding: 0 0 0 0;\n",
              "      width: 32px;\n",
              "    }\n",
              "\n",
              "    .colab-df-convert:hover {\n",
              "      background-color: #E2EBFA;\n",
              "      box-shadow: 0px 1px 2px rgba(60, 64, 67, 0.3), 0px 1px 3px 1px rgba(60, 64, 67, 0.15);\n",
              "      fill: #174EA6;\n",
              "    }\n",
              "\n",
              "    [theme=dark] .colab-df-convert {\n",
              "      background-color: #3B4455;\n",
              "      fill: #D2E3FC;\n",
              "    }\n",
              "\n",
              "    [theme=dark] .colab-df-convert:hover {\n",
              "      background-color: #434B5C;\n",
              "      box-shadow: 0px 1px 3px 1px rgba(0, 0, 0, 0.15);\n",
              "      filter: drop-shadow(0px 1px 2px rgba(0, 0, 0, 0.3));\n",
              "      fill: #FFFFFF;\n",
              "    }\n",
              "  </style>\n",
              "\n",
              "      <script>\n",
              "        const buttonEl =\n",
              "          document.querySelector('#df-d140ce7b-5378-4a3f-bd2e-ab78e20a7c63 button.colab-df-convert');\n",
              "        buttonEl.style.display =\n",
              "          google.colab.kernel.accessAllowed ? 'block' : 'none';\n",
              "\n",
              "        async function convertToInteractive(key) {\n",
              "          const element = document.querySelector('#df-d140ce7b-5378-4a3f-bd2e-ab78e20a7c63');\n",
              "          const dataTable =\n",
              "            await google.colab.kernel.invokeFunction('convertToInteractive',\n",
              "                                                     [key], {});\n",
              "          if (!dataTable) return;\n",
              "\n",
              "          const docLinkHtml = 'Like what you see? Visit the ' +\n",
              "            '<a target=\"_blank\" href=https://colab.research.google.com/notebooks/data_table.ipynb>data table notebook</a>'\n",
              "            + ' to learn more about interactive tables.';\n",
              "          element.innerHTML = '';\n",
              "          dataTable['output_type'] = 'display_data';\n",
              "          await google.colab.output.renderOutput(dataTable, element);\n",
              "          const docLink = document.createElement('div');\n",
              "          docLink.innerHTML = docLinkHtml;\n",
              "          element.appendChild(docLink);\n",
              "        }\n",
              "      </script>\n",
              "    </div>\n",
              "  </div>\n",
              "  "
            ],
            "text/plain": [
              "     id  ... availability_365\n",
              "0  2539  ...              365\n",
              "1  2595  ...              355\n",
              "2  3647  ...              365\n",
              "\n",
              "[3 rows x 16 columns]"
            ]
          },
          "metadata": {},
          "execution_count": 218
        }
      ]
    },
    {
      "cell_type": "code",
      "source": [
        "airbnb_df.tail(3)"
      ],
      "metadata": {
        "colab": {
          "base_uri": "https://localhost:8080/",
          "height": 329
        },
        "id": "_7dYaR51vGLJ",
        "outputId": "80444490-d066-43b4-c433-6f296481a1e7"
      },
      "execution_count": 219,
      "outputs": [
        {
          "output_type": "execute_result",
          "data": {
            "text/html": [
              "\n",
              "  <div id=\"df-16299eb0-a831-43a8-9225-f4c831d88937\">\n",
              "    <div class=\"colab-df-container\">\n",
              "      <div>\n",
              "<style scoped>\n",
              "    .dataframe tbody tr th:only-of-type {\n",
              "        vertical-align: middle;\n",
              "    }\n",
              "\n",
              "    .dataframe tbody tr th {\n",
              "        vertical-align: top;\n",
              "    }\n",
              "\n",
              "    .dataframe thead th {\n",
              "        text-align: right;\n",
              "    }\n",
              "</style>\n",
              "<table border=\"1\" class=\"dataframe\">\n",
              "  <thead>\n",
              "    <tr style=\"text-align: right;\">\n",
              "      <th></th>\n",
              "      <th>id</th>\n",
              "      <th>name</th>\n",
              "      <th>host_id</th>\n",
              "      <th>host_name</th>\n",
              "      <th>neighbourhood_group</th>\n",
              "      <th>neighbourhood</th>\n",
              "      <th>latitude</th>\n",
              "      <th>longitude</th>\n",
              "      <th>room_type</th>\n",
              "      <th>price</th>\n",
              "      <th>minimum_nights</th>\n",
              "      <th>number_of_reviews</th>\n",
              "      <th>last_review</th>\n",
              "      <th>reviews_per_month</th>\n",
              "      <th>calculated_host_listings_count</th>\n",
              "      <th>availability_365</th>\n",
              "    </tr>\n",
              "  </thead>\n",
              "  <tbody>\n",
              "    <tr>\n",
              "      <th>48892</th>\n",
              "      <td>36485431</td>\n",
              "      <td>Sunny Studio at Historical Neighborhood</td>\n",
              "      <td>23492952</td>\n",
              "      <td>Ilgar &amp; Aysel</td>\n",
              "      <td>Manhattan</td>\n",
              "      <td>Harlem</td>\n",
              "      <td>40.81475</td>\n",
              "      <td>-73.94867</td>\n",
              "      <td>Entire home/apt</td>\n",
              "      <td>115</td>\n",
              "      <td>10</td>\n",
              "      <td>0</td>\n",
              "      <td>NaN</td>\n",
              "      <td>NaN</td>\n",
              "      <td>1</td>\n",
              "      <td>27</td>\n",
              "    </tr>\n",
              "    <tr>\n",
              "      <th>48893</th>\n",
              "      <td>36485609</td>\n",
              "      <td>43rd St. Time Square-cozy single bed</td>\n",
              "      <td>30985759</td>\n",
              "      <td>Taz</td>\n",
              "      <td>Manhattan</td>\n",
              "      <td>Hell's Kitchen</td>\n",
              "      <td>40.75751</td>\n",
              "      <td>-73.99112</td>\n",
              "      <td>Shared room</td>\n",
              "      <td>55</td>\n",
              "      <td>1</td>\n",
              "      <td>0</td>\n",
              "      <td>NaN</td>\n",
              "      <td>NaN</td>\n",
              "      <td>6</td>\n",
              "      <td>2</td>\n",
              "    </tr>\n",
              "    <tr>\n",
              "      <th>48894</th>\n",
              "      <td>36487245</td>\n",
              "      <td>Trendy duplex in the very heart of Hell's Kitchen</td>\n",
              "      <td>68119814</td>\n",
              "      <td>Christophe</td>\n",
              "      <td>Manhattan</td>\n",
              "      <td>Hell's Kitchen</td>\n",
              "      <td>40.76404</td>\n",
              "      <td>-73.98933</td>\n",
              "      <td>Private room</td>\n",
              "      <td>90</td>\n",
              "      <td>7</td>\n",
              "      <td>0</td>\n",
              "      <td>NaN</td>\n",
              "      <td>NaN</td>\n",
              "      <td>1</td>\n",
              "      <td>23</td>\n",
              "    </tr>\n",
              "  </tbody>\n",
              "</table>\n",
              "</div>\n",
              "      <button class=\"colab-df-convert\" onclick=\"convertToInteractive('df-16299eb0-a831-43a8-9225-f4c831d88937')\"\n",
              "              title=\"Convert this dataframe to an interactive table.\"\n",
              "              style=\"display:none;\">\n",
              "        \n",
              "  <svg xmlns=\"http://www.w3.org/2000/svg\" height=\"24px\"viewBox=\"0 0 24 24\"\n",
              "       width=\"24px\">\n",
              "    <path d=\"M0 0h24v24H0V0z\" fill=\"none\"/>\n",
              "    <path d=\"M18.56 5.44l.94 2.06.94-2.06 2.06-.94-2.06-.94-.94-2.06-.94 2.06-2.06.94zm-11 1L8.5 8.5l.94-2.06 2.06-.94-2.06-.94L8.5 2.5l-.94 2.06-2.06.94zm10 10l.94 2.06.94-2.06 2.06-.94-2.06-.94-.94-2.06-.94 2.06-2.06.94z\"/><path d=\"M17.41 7.96l-1.37-1.37c-.4-.4-.92-.59-1.43-.59-.52 0-1.04.2-1.43.59L10.3 9.45l-7.72 7.72c-.78.78-.78 2.05 0 2.83L4 21.41c.39.39.9.59 1.41.59.51 0 1.02-.2 1.41-.59l7.78-7.78 2.81-2.81c.8-.78.8-2.07 0-2.86zM5.41 20L4 18.59l7.72-7.72 1.47 1.35L5.41 20z\"/>\n",
              "  </svg>\n",
              "      </button>\n",
              "      \n",
              "  <style>\n",
              "    .colab-df-container {\n",
              "      display:flex;\n",
              "      flex-wrap:wrap;\n",
              "      gap: 12px;\n",
              "    }\n",
              "\n",
              "    .colab-df-convert {\n",
              "      background-color: #E8F0FE;\n",
              "      border: none;\n",
              "      border-radius: 50%;\n",
              "      cursor: pointer;\n",
              "      display: none;\n",
              "      fill: #1967D2;\n",
              "      height: 32px;\n",
              "      padding: 0 0 0 0;\n",
              "      width: 32px;\n",
              "    }\n",
              "\n",
              "    .colab-df-convert:hover {\n",
              "      background-color: #E2EBFA;\n",
              "      box-shadow: 0px 1px 2px rgba(60, 64, 67, 0.3), 0px 1px 3px 1px rgba(60, 64, 67, 0.15);\n",
              "      fill: #174EA6;\n",
              "    }\n",
              "\n",
              "    [theme=dark] .colab-df-convert {\n",
              "      background-color: #3B4455;\n",
              "      fill: #D2E3FC;\n",
              "    }\n",
              "\n",
              "    [theme=dark] .colab-df-convert:hover {\n",
              "      background-color: #434B5C;\n",
              "      box-shadow: 0px 1px 3px 1px rgba(0, 0, 0, 0.15);\n",
              "      filter: drop-shadow(0px 1px 2px rgba(0, 0, 0, 0.3));\n",
              "      fill: #FFFFFF;\n",
              "    }\n",
              "  </style>\n",
              "\n",
              "      <script>\n",
              "        const buttonEl =\n",
              "          document.querySelector('#df-16299eb0-a831-43a8-9225-f4c831d88937 button.colab-df-convert');\n",
              "        buttonEl.style.display =\n",
              "          google.colab.kernel.accessAllowed ? 'block' : 'none';\n",
              "\n",
              "        async function convertToInteractive(key) {\n",
              "          const element = document.querySelector('#df-16299eb0-a831-43a8-9225-f4c831d88937');\n",
              "          const dataTable =\n",
              "            await google.colab.kernel.invokeFunction('convertToInteractive',\n",
              "                                                     [key], {});\n",
              "          if (!dataTable) return;\n",
              "\n",
              "          const docLinkHtml = 'Like what you see? Visit the ' +\n",
              "            '<a target=\"_blank\" href=https://colab.research.google.com/notebooks/data_table.ipynb>data table notebook</a>'\n",
              "            + ' to learn more about interactive tables.';\n",
              "          element.innerHTML = '';\n",
              "          dataTable['output_type'] = 'display_data';\n",
              "          await google.colab.output.renderOutput(dataTable, element);\n",
              "          const docLink = document.createElement('div');\n",
              "          docLink.innerHTML = docLinkHtml;\n",
              "          element.appendChild(docLink);\n",
              "        }\n",
              "      </script>\n",
              "    </div>\n",
              "  </div>\n",
              "  "
            ],
            "text/plain": [
              "             id  ... availability_365\n",
              "48892  36485431  ...               27\n",
              "48893  36485609  ...                2\n",
              "48894  36487245  ...               23\n",
              "\n",
              "[3 rows x 16 columns]"
            ]
          },
          "metadata": {},
          "execution_count": 219
        }
      ]
    },
    {
      "cell_type": "code",
      "source": [
        "airbnb_df.dtypes.reset_index().rename(columns={'index':'Columns',0:'DataTypes'})"
      ],
      "metadata": {
        "colab": {
          "base_uri": "https://localhost:8080/",
          "height": 551
        },
        "id": "Q4eD6bRKvGN_",
        "outputId": "811f4a84-099d-4381-fdc4-6f9afc803671"
      },
      "execution_count": 220,
      "outputs": [
        {
          "output_type": "execute_result",
          "data": {
            "text/html": [
              "\n",
              "  <div id=\"df-ea6bec5c-eba1-4916-bc86-faa74955e2cd\">\n",
              "    <div class=\"colab-df-container\">\n",
              "      <div>\n",
              "<style scoped>\n",
              "    .dataframe tbody tr th:only-of-type {\n",
              "        vertical-align: middle;\n",
              "    }\n",
              "\n",
              "    .dataframe tbody tr th {\n",
              "        vertical-align: top;\n",
              "    }\n",
              "\n",
              "    .dataframe thead th {\n",
              "        text-align: right;\n",
              "    }\n",
              "</style>\n",
              "<table border=\"1\" class=\"dataframe\">\n",
              "  <thead>\n",
              "    <tr style=\"text-align: right;\">\n",
              "      <th></th>\n",
              "      <th>Columns</th>\n",
              "      <th>DataTypes</th>\n",
              "    </tr>\n",
              "  </thead>\n",
              "  <tbody>\n",
              "    <tr>\n",
              "      <th>0</th>\n",
              "      <td>id</td>\n",
              "      <td>int64</td>\n",
              "    </tr>\n",
              "    <tr>\n",
              "      <th>1</th>\n",
              "      <td>name</td>\n",
              "      <td>object</td>\n",
              "    </tr>\n",
              "    <tr>\n",
              "      <th>2</th>\n",
              "      <td>host_id</td>\n",
              "      <td>int64</td>\n",
              "    </tr>\n",
              "    <tr>\n",
              "      <th>3</th>\n",
              "      <td>host_name</td>\n",
              "      <td>object</td>\n",
              "    </tr>\n",
              "    <tr>\n",
              "      <th>4</th>\n",
              "      <td>neighbourhood_group</td>\n",
              "      <td>object</td>\n",
              "    </tr>\n",
              "    <tr>\n",
              "      <th>5</th>\n",
              "      <td>neighbourhood</td>\n",
              "      <td>object</td>\n",
              "    </tr>\n",
              "    <tr>\n",
              "      <th>6</th>\n",
              "      <td>latitude</td>\n",
              "      <td>float64</td>\n",
              "    </tr>\n",
              "    <tr>\n",
              "      <th>7</th>\n",
              "      <td>longitude</td>\n",
              "      <td>float64</td>\n",
              "    </tr>\n",
              "    <tr>\n",
              "      <th>8</th>\n",
              "      <td>room_type</td>\n",
              "      <td>object</td>\n",
              "    </tr>\n",
              "    <tr>\n",
              "      <th>9</th>\n",
              "      <td>price</td>\n",
              "      <td>int64</td>\n",
              "    </tr>\n",
              "    <tr>\n",
              "      <th>10</th>\n",
              "      <td>minimum_nights</td>\n",
              "      <td>int64</td>\n",
              "    </tr>\n",
              "    <tr>\n",
              "      <th>11</th>\n",
              "      <td>number_of_reviews</td>\n",
              "      <td>int64</td>\n",
              "    </tr>\n",
              "    <tr>\n",
              "      <th>12</th>\n",
              "      <td>last_review</td>\n",
              "      <td>object</td>\n",
              "    </tr>\n",
              "    <tr>\n",
              "      <th>13</th>\n",
              "      <td>reviews_per_month</td>\n",
              "      <td>float64</td>\n",
              "    </tr>\n",
              "    <tr>\n",
              "      <th>14</th>\n",
              "      <td>calculated_host_listings_count</td>\n",
              "      <td>int64</td>\n",
              "    </tr>\n",
              "    <tr>\n",
              "      <th>15</th>\n",
              "      <td>availability_365</td>\n",
              "      <td>int64</td>\n",
              "    </tr>\n",
              "  </tbody>\n",
              "</table>\n",
              "</div>\n",
              "      <button class=\"colab-df-convert\" onclick=\"convertToInteractive('df-ea6bec5c-eba1-4916-bc86-faa74955e2cd')\"\n",
              "              title=\"Convert this dataframe to an interactive table.\"\n",
              "              style=\"display:none;\">\n",
              "        \n",
              "  <svg xmlns=\"http://www.w3.org/2000/svg\" height=\"24px\"viewBox=\"0 0 24 24\"\n",
              "       width=\"24px\">\n",
              "    <path d=\"M0 0h24v24H0V0z\" fill=\"none\"/>\n",
              "    <path d=\"M18.56 5.44l.94 2.06.94-2.06 2.06-.94-2.06-.94-.94-2.06-.94 2.06-2.06.94zm-11 1L8.5 8.5l.94-2.06 2.06-.94-2.06-.94L8.5 2.5l-.94 2.06-2.06.94zm10 10l.94 2.06.94-2.06 2.06-.94-2.06-.94-.94-2.06-.94 2.06-2.06.94z\"/><path d=\"M17.41 7.96l-1.37-1.37c-.4-.4-.92-.59-1.43-.59-.52 0-1.04.2-1.43.59L10.3 9.45l-7.72 7.72c-.78.78-.78 2.05 0 2.83L4 21.41c.39.39.9.59 1.41.59.51 0 1.02-.2 1.41-.59l7.78-7.78 2.81-2.81c.8-.78.8-2.07 0-2.86zM5.41 20L4 18.59l7.72-7.72 1.47 1.35L5.41 20z\"/>\n",
              "  </svg>\n",
              "      </button>\n",
              "      \n",
              "  <style>\n",
              "    .colab-df-container {\n",
              "      display:flex;\n",
              "      flex-wrap:wrap;\n",
              "      gap: 12px;\n",
              "    }\n",
              "\n",
              "    .colab-df-convert {\n",
              "      background-color: #E8F0FE;\n",
              "      border: none;\n",
              "      border-radius: 50%;\n",
              "      cursor: pointer;\n",
              "      display: none;\n",
              "      fill: #1967D2;\n",
              "      height: 32px;\n",
              "      padding: 0 0 0 0;\n",
              "      width: 32px;\n",
              "    }\n",
              "\n",
              "    .colab-df-convert:hover {\n",
              "      background-color: #E2EBFA;\n",
              "      box-shadow: 0px 1px 2px rgba(60, 64, 67, 0.3), 0px 1px 3px 1px rgba(60, 64, 67, 0.15);\n",
              "      fill: #174EA6;\n",
              "    }\n",
              "\n",
              "    [theme=dark] .colab-df-convert {\n",
              "      background-color: #3B4455;\n",
              "      fill: #D2E3FC;\n",
              "    }\n",
              "\n",
              "    [theme=dark] .colab-df-convert:hover {\n",
              "      background-color: #434B5C;\n",
              "      box-shadow: 0px 1px 3px 1px rgba(0, 0, 0, 0.15);\n",
              "      filter: drop-shadow(0px 1px 2px rgba(0, 0, 0, 0.3));\n",
              "      fill: #FFFFFF;\n",
              "    }\n",
              "  </style>\n",
              "\n",
              "      <script>\n",
              "        const buttonEl =\n",
              "          document.querySelector('#df-ea6bec5c-eba1-4916-bc86-faa74955e2cd button.colab-df-convert');\n",
              "        buttonEl.style.display =\n",
              "          google.colab.kernel.accessAllowed ? 'block' : 'none';\n",
              "\n",
              "        async function convertToInteractive(key) {\n",
              "          const element = document.querySelector('#df-ea6bec5c-eba1-4916-bc86-faa74955e2cd');\n",
              "          const dataTable =\n",
              "            await google.colab.kernel.invokeFunction('convertToInteractive',\n",
              "                                                     [key], {});\n",
              "          if (!dataTable) return;\n",
              "\n",
              "          const docLinkHtml = 'Like what you see? Visit the ' +\n",
              "            '<a target=\"_blank\" href=https://colab.research.google.com/notebooks/data_table.ipynb>data table notebook</a>'\n",
              "            + ' to learn more about interactive tables.';\n",
              "          element.innerHTML = '';\n",
              "          dataTable['output_type'] = 'display_data';\n",
              "          await google.colab.output.renderOutput(dataTable, element);\n",
              "          const docLink = document.createElement('div');\n",
              "          docLink.innerHTML = docLinkHtml;\n",
              "          element.appendChild(docLink);\n",
              "        }\n",
              "      </script>\n",
              "    </div>\n",
              "  </div>\n",
              "  "
            ],
            "text/plain": [
              "                           Columns DataTypes\n",
              "0                               id     int64\n",
              "1                             name    object\n",
              "2                          host_id     int64\n",
              "3                        host_name    object\n",
              "4              neighbourhood_group    object\n",
              "5                    neighbourhood    object\n",
              "6                         latitude   float64\n",
              "7                        longitude   float64\n",
              "8                        room_type    object\n",
              "9                            price     int64\n",
              "10                  minimum_nights     int64\n",
              "11               number_of_reviews     int64\n",
              "12                     last_review    object\n",
              "13               reviews_per_month   float64\n",
              "14  calculated_host_listings_count     int64\n",
              "15                availability_365     int64"
            ]
          },
          "metadata": {},
          "execution_count": 220
        }
      ]
    },
    {
      "cell_type": "markdown",
      "source": [
        "#### 4. Checking for null values"
      ],
      "metadata": {
        "id": "x9c9sTUxdhkZ"
      }
    },
    {
      "cell_type": "code",
      "source": [
        "# Percent of null values in Columns.\n",
        "\n",
        "for column in airbnb_df.columns:\n",
        "  print(f'Percent of null values in {column} is : {np.round(airbnb_df[column].isnull().mean()*100,2)} %')"
      ],
      "metadata": {
        "colab": {
          "base_uri": "https://localhost:8080/"
        },
        "id": "Bd4JdqntvGRa",
        "outputId": "e0ae64a4-b605-4790-cbe9-9375503b4ba5"
      },
      "execution_count": 221,
      "outputs": [
        {
          "output_type": "stream",
          "name": "stdout",
          "text": [
            "Percent of null values in id is : 0.0 %\n",
            "Percent of null values in name is : 0.03 %\n",
            "Percent of null values in host_id is : 0.0 %\n",
            "Percent of null values in host_name is : 0.04 %\n",
            "Percent of null values in neighbourhood_group is : 0.0 %\n",
            "Percent of null values in neighbourhood is : 0.0 %\n",
            "Percent of null values in latitude is : 0.0 %\n",
            "Percent of null values in longitude is : 0.0 %\n",
            "Percent of null values in room_type is : 0.0 %\n",
            "Percent of null values in price is : 0.0 %\n",
            "Percent of null values in minimum_nights is : 0.0 %\n",
            "Percent of null values in number_of_reviews is : 0.0 %\n",
            "Percent of null values in last_review is : 20.56 %\n",
            "Percent of null values in reviews_per_month is : 20.56 %\n",
            "Percent of null values in calculated_host_listings_count is : 0.0 %\n",
            "Percent of null values in availability_365 is : 0.0 %\n"
          ]
        }
      ]
    },
    {
      "cell_type": "markdown",
      "source": [
        "#### 5.Handling NaN values Spliting the dataset into 2 parts:\n",
        "* reviewed dataset having non-null review columns\n",
        "* non-reviewed dataset having null review columns"
      ],
      "metadata": {
        "id": "n0EoB6uLQJ3a"
      }
    },
    {
      "cell_type": "code",
      "source": [
        "# 2 empty lists to capture the ids for the nan values of host_name and name columns respectively\n",
        "id_for_nan_host_name = []\n",
        "for val in airbnb_df.loc[airbnb_df.host_name.isna()]['host_id']:\n",
        "  id_for_nan_host_name.append(val)\n",
        "\n",
        "id_for_nan_name = []\n",
        "for val in airbnb_df.loc[airbnb_df.name.isna()]['id']:\n",
        "  id_for_nan_name.append(val)\n"
      ],
      "metadata": {
        "id": "A4aO9Pcoaf9p"
      },
      "execution_count": 222,
      "outputs": []
    },
    {
      "cell_type": "code",
      "source": [
        "def name_finder(id,name,id_list):\n",
        "  '''This function checks if the id for name with nan value has any repeatation in other part of the the name column\n",
        "    with some legitimate names. '''\n",
        "\n",
        "  for i in range(airbnb_df.shape[0]):\n",
        "    if id[i] in id_list:\n",
        "      if name[i] != np.nan:\n",
        "        print(name[i])\n",
        "      else:\n",
        "        pass\n",
        "    else:\n",
        "      pass"
      ],
      "metadata": {
        "id": "F2Toj9MkWdqK"
      },
      "execution_count": 223,
      "outputs": []
    },
    {
      "cell_type": "code",
      "source": [
        "name_finder(airbnb_df.id,airbnb_df.name,id_for_nan_host_name)\n",
        "name_finder(airbnb_df.id,airbnb_df.name,id_for_nan_name)"
      ],
      "metadata": {
        "id": "7df_ncmheGTK",
        "colab": {
          "base_uri": "https://localhost:8080/"
        },
        "outputId": "4de91713-2fa1-46ac-b0d3-4de9ac360d12"
      },
      "execution_count": 224,
      "outputs": [
        {
          "output_type": "stream",
          "name": "stdout",
          "text": [
            "nan\n",
            "nan\n",
            "nan\n",
            "nan\n",
            "nan\n",
            "nan\n",
            "nan\n",
            "nan\n",
            "nan\n",
            "nan\n",
            "nan\n",
            "nan\n",
            "nan\n",
            "nan\n",
            "nan\n",
            "nan\n"
          ]
        }
      ]
    },
    {
      "cell_type": "markdown",
      "source": [
        "We find that the nan values of the column name and host_name doesn't have any legitimate name mentioned in the dataset which we tried seaching using their ids and host_ids respectively.\n",
        "\n",
        "Hence, we tried to replace those nan values with 'no name'."
      ],
      "metadata": {
        "id": "FsxZWf2zwvHW"
      }
    },
    {
      "cell_type": "code",
      "source": [
        "# Handilng NaN values from Name and host_name column\n",
        "\n",
        "# airbnb_df[['name','host_name']].replace(np.nan,'no name',inplace=True)\n",
        "airbnb_df[['name','host_name']] = airbnb_df[['name','host_name']].fillna('no name')"
      ],
      "metadata": {
        "id": "7wd_JKy5ofsA"
      },
      "execution_count": 225,
      "outputs": []
    },
    {
      "cell_type": "code",
      "source": [
        "# Converting the time string  to datetime format\n",
        "\n",
        "airbnb_df['last_review'] = pd.to_datetime(airbnb_df['last_review'])"
      ],
      "metadata": {
        "id": "6bEkq8jZq6Sj"
      },
      "execution_count": 226,
      "outputs": []
    },
    {
      "cell_type": "code",
      "source": [
        "# Splitting the dataset into reviewed_df for non null review data and non_reviewed_df for null review values.\n",
        "\n",
        "reviewed_df = airbnb_df.loc[~airbnb_df.last_review.isna() & ~airbnb_df.reviews_per_month.isna()]\n",
        "reviewed_df.reset_index().drop('index',axis=1,inplace=True)\n",
        "\n",
        "non_reviewed_df = airbnb_df.loc[airbnb_df.last_review.isna() & airbnb_df.reviews_per_month.isna()]\n",
        "non_reviewed_df.reset_index().drop('index',axis=1,inplace=True)"
      ],
      "metadata": {
        "id": "KjgJxUoyvG0v"
      },
      "execution_count": 227,
      "outputs": []
    },
    {
      "cell_type": "code",
      "source": [
        "# Replacing nan values of last_review and review_per_month of non_reviewed_df with 0. As we will analysing other aspects of for set.\n",
        "non_reviewed_df[['last_review','reviews_per_month']] = non_reviewed_df[['last_review','reviews_per_month']].fillna(0) "
      ],
      "metadata": {
        "id": "PBlhbsPpvG9L"
      },
      "execution_count": 228,
      "outputs": []
    },
    {
      "cell_type": "code",
      "source": [
        "reviewed_df.tail()"
      ],
      "metadata": {
        "colab": {
          "base_uri": "https://localhost:8080/",
          "height": 530
        },
        "id": "d2Iu1gU6vHQ8",
        "outputId": "51766166-4beb-4b48-e857-82eb01b45a61"
      },
      "execution_count": 229,
      "outputs": [
        {
          "output_type": "execute_result",
          "data": {
            "text/html": [
              "\n",
              "  <div id=\"df-37ec2ab4-4551-4ee3-a03b-3722755fd6bb\">\n",
              "    <div class=\"colab-df-container\">\n",
              "      <div>\n",
              "<style scoped>\n",
              "    .dataframe tbody tr th:only-of-type {\n",
              "        vertical-align: middle;\n",
              "    }\n",
              "\n",
              "    .dataframe tbody tr th {\n",
              "        vertical-align: top;\n",
              "    }\n",
              "\n",
              "    .dataframe thead th {\n",
              "        text-align: right;\n",
              "    }\n",
              "</style>\n",
              "<table border=\"1\" class=\"dataframe\">\n",
              "  <thead>\n",
              "    <tr style=\"text-align: right;\">\n",
              "      <th></th>\n",
              "      <th>id</th>\n",
              "      <th>name</th>\n",
              "      <th>host_id</th>\n",
              "      <th>host_name</th>\n",
              "      <th>neighbourhood_group</th>\n",
              "      <th>neighbourhood</th>\n",
              "      <th>latitude</th>\n",
              "      <th>longitude</th>\n",
              "      <th>room_type</th>\n",
              "      <th>price</th>\n",
              "      <th>minimum_nights</th>\n",
              "      <th>number_of_reviews</th>\n",
              "      <th>last_review</th>\n",
              "      <th>reviews_per_month</th>\n",
              "      <th>calculated_host_listings_count</th>\n",
              "      <th>availability_365</th>\n",
              "    </tr>\n",
              "  </thead>\n",
              "  <tbody>\n",
              "    <tr>\n",
              "      <th>48782</th>\n",
              "      <td>36425863</td>\n",
              "      <td>Lovely Privet Bedroom with Privet Restroom</td>\n",
              "      <td>83554966</td>\n",
              "      <td>Rusaa</td>\n",
              "      <td>Manhattan</td>\n",
              "      <td>Upper East Side</td>\n",
              "      <td>40.78099</td>\n",
              "      <td>-73.95366</td>\n",
              "      <td>Private room</td>\n",
              "      <td>129</td>\n",
              "      <td>1</td>\n",
              "      <td>1</td>\n",
              "      <td>2019-07-07</td>\n",
              "      <td>1.0</td>\n",
              "      <td>1</td>\n",
              "      <td>147</td>\n",
              "    </tr>\n",
              "    <tr>\n",
              "      <th>48790</th>\n",
              "      <td>36427429</td>\n",
              "      <td>No.2 with queen size bed</td>\n",
              "      <td>257683179</td>\n",
              "      <td>H Ai</td>\n",
              "      <td>Queens</td>\n",
              "      <td>Flushing</td>\n",
              "      <td>40.75104</td>\n",
              "      <td>-73.81459</td>\n",
              "      <td>Private room</td>\n",
              "      <td>45</td>\n",
              "      <td>1</td>\n",
              "      <td>1</td>\n",
              "      <td>2019-07-07</td>\n",
              "      <td>1.0</td>\n",
              "      <td>6</td>\n",
              "      <td>339</td>\n",
              "    </tr>\n",
              "    <tr>\n",
              "      <th>48799</th>\n",
              "      <td>36438336</td>\n",
              "      <td>Seas The Moment</td>\n",
              "      <td>211644523</td>\n",
              "      <td>Ben</td>\n",
              "      <td>Staten Island</td>\n",
              "      <td>Great Kills</td>\n",
              "      <td>40.54179</td>\n",
              "      <td>-74.14275</td>\n",
              "      <td>Private room</td>\n",
              "      <td>235</td>\n",
              "      <td>1</td>\n",
              "      <td>1</td>\n",
              "      <td>2019-07-07</td>\n",
              "      <td>1.0</td>\n",
              "      <td>1</td>\n",
              "      <td>87</td>\n",
              "    </tr>\n",
              "    <tr>\n",
              "      <th>48805</th>\n",
              "      <td>36442252</td>\n",
              "      <td>1B-1B apartment near by Metro</td>\n",
              "      <td>273841667</td>\n",
              "      <td>Blaine</td>\n",
              "      <td>Bronx</td>\n",
              "      <td>Mott Haven</td>\n",
              "      <td>40.80787</td>\n",
              "      <td>-73.92400</td>\n",
              "      <td>Entire home/apt</td>\n",
              "      <td>100</td>\n",
              "      <td>1</td>\n",
              "      <td>2</td>\n",
              "      <td>2019-07-07</td>\n",
              "      <td>2.0</td>\n",
              "      <td>1</td>\n",
              "      <td>40</td>\n",
              "    </tr>\n",
              "    <tr>\n",
              "      <th>48852</th>\n",
              "      <td>36455809</td>\n",
              "      <td>Cozy Private Room in Bushwick, Brooklyn</td>\n",
              "      <td>74162901</td>\n",
              "      <td>Christine</td>\n",
              "      <td>Brooklyn</td>\n",
              "      <td>Bushwick</td>\n",
              "      <td>40.69805</td>\n",
              "      <td>-73.92801</td>\n",
              "      <td>Private room</td>\n",
              "      <td>30</td>\n",
              "      <td>1</td>\n",
              "      <td>1</td>\n",
              "      <td>2019-07-08</td>\n",
              "      <td>1.0</td>\n",
              "      <td>1</td>\n",
              "      <td>1</td>\n",
              "    </tr>\n",
              "  </tbody>\n",
              "</table>\n",
              "</div>\n",
              "      <button class=\"colab-df-convert\" onclick=\"convertToInteractive('df-37ec2ab4-4551-4ee3-a03b-3722755fd6bb')\"\n",
              "              title=\"Convert this dataframe to an interactive table.\"\n",
              "              style=\"display:none;\">\n",
              "        \n",
              "  <svg xmlns=\"http://www.w3.org/2000/svg\" height=\"24px\"viewBox=\"0 0 24 24\"\n",
              "       width=\"24px\">\n",
              "    <path d=\"M0 0h24v24H0V0z\" fill=\"none\"/>\n",
              "    <path d=\"M18.56 5.44l.94 2.06.94-2.06 2.06-.94-2.06-.94-.94-2.06-.94 2.06-2.06.94zm-11 1L8.5 8.5l.94-2.06 2.06-.94-2.06-.94L8.5 2.5l-.94 2.06-2.06.94zm10 10l.94 2.06.94-2.06 2.06-.94-2.06-.94-.94-2.06-.94 2.06-2.06.94z\"/><path d=\"M17.41 7.96l-1.37-1.37c-.4-.4-.92-.59-1.43-.59-.52 0-1.04.2-1.43.59L10.3 9.45l-7.72 7.72c-.78.78-.78 2.05 0 2.83L4 21.41c.39.39.9.59 1.41.59.51 0 1.02-.2 1.41-.59l7.78-7.78 2.81-2.81c.8-.78.8-2.07 0-2.86zM5.41 20L4 18.59l7.72-7.72 1.47 1.35L5.41 20z\"/>\n",
              "  </svg>\n",
              "      </button>\n",
              "      \n",
              "  <style>\n",
              "    .colab-df-container {\n",
              "      display:flex;\n",
              "      flex-wrap:wrap;\n",
              "      gap: 12px;\n",
              "    }\n",
              "\n",
              "    .colab-df-convert {\n",
              "      background-color: #E8F0FE;\n",
              "      border: none;\n",
              "      border-radius: 50%;\n",
              "      cursor: pointer;\n",
              "      display: none;\n",
              "      fill: #1967D2;\n",
              "      height: 32px;\n",
              "      padding: 0 0 0 0;\n",
              "      width: 32px;\n",
              "    }\n",
              "\n",
              "    .colab-df-convert:hover {\n",
              "      background-color: #E2EBFA;\n",
              "      box-shadow: 0px 1px 2px rgba(60, 64, 67, 0.3), 0px 1px 3px 1px rgba(60, 64, 67, 0.15);\n",
              "      fill: #174EA6;\n",
              "    }\n",
              "\n",
              "    [theme=dark] .colab-df-convert {\n",
              "      background-color: #3B4455;\n",
              "      fill: #D2E3FC;\n",
              "    }\n",
              "\n",
              "    [theme=dark] .colab-df-convert:hover {\n",
              "      background-color: #434B5C;\n",
              "      box-shadow: 0px 1px 3px 1px rgba(0, 0, 0, 0.15);\n",
              "      filter: drop-shadow(0px 1px 2px rgba(0, 0, 0, 0.3));\n",
              "      fill: #FFFFFF;\n",
              "    }\n",
              "  </style>\n",
              "\n",
              "      <script>\n",
              "        const buttonEl =\n",
              "          document.querySelector('#df-37ec2ab4-4551-4ee3-a03b-3722755fd6bb button.colab-df-convert');\n",
              "        buttonEl.style.display =\n",
              "          google.colab.kernel.accessAllowed ? 'block' : 'none';\n",
              "\n",
              "        async function convertToInteractive(key) {\n",
              "          const element = document.querySelector('#df-37ec2ab4-4551-4ee3-a03b-3722755fd6bb');\n",
              "          const dataTable =\n",
              "            await google.colab.kernel.invokeFunction('convertToInteractive',\n",
              "                                                     [key], {});\n",
              "          if (!dataTable) return;\n",
              "\n",
              "          const docLinkHtml = 'Like what you see? Visit the ' +\n",
              "            '<a target=\"_blank\" href=https://colab.research.google.com/notebooks/data_table.ipynb>data table notebook</a>'\n",
              "            + ' to learn more about interactive tables.';\n",
              "          element.innerHTML = '';\n",
              "          dataTable['output_type'] = 'display_data';\n",
              "          await google.colab.output.renderOutput(dataTable, element);\n",
              "          const docLink = document.createElement('div');\n",
              "          docLink.innerHTML = docLinkHtml;\n",
              "          element.appendChild(docLink);\n",
              "        }\n",
              "      </script>\n",
              "    </div>\n",
              "  </div>\n",
              "  "
            ],
            "text/plain": [
              "             id  ... availability_365\n",
              "48782  36425863  ...              147\n",
              "48790  36427429  ...              339\n",
              "48799  36438336  ...               87\n",
              "48805  36442252  ...               40\n",
              "48852  36455809  ...                1\n",
              "\n",
              "[5 rows x 16 columns]"
            ]
          },
          "metadata": {},
          "execution_count": 229
        }
      ]
    },
    {
      "cell_type": "code",
      "source": [
        "non_reviewed_df.head()"
      ],
      "metadata": {
        "colab": {
          "base_uri": "https://localhost:8080/",
          "height": 443
        },
        "id": "hTknNW8l2Q2Q",
        "outputId": "e40fc3a7-eac9-422b-dbce-864b33cf12bd"
      },
      "execution_count": 230,
      "outputs": [
        {
          "output_type": "execute_result",
          "data": {
            "text/html": [
              "\n",
              "  <div id=\"df-7640c61a-4f4f-44c1-ba28-11246df6f97d\">\n",
              "    <div class=\"colab-df-container\">\n",
              "      <div>\n",
              "<style scoped>\n",
              "    .dataframe tbody tr th:only-of-type {\n",
              "        vertical-align: middle;\n",
              "    }\n",
              "\n",
              "    .dataframe tbody tr th {\n",
              "        vertical-align: top;\n",
              "    }\n",
              "\n",
              "    .dataframe thead th {\n",
              "        text-align: right;\n",
              "    }\n",
              "</style>\n",
              "<table border=\"1\" class=\"dataframe\">\n",
              "  <thead>\n",
              "    <tr style=\"text-align: right;\">\n",
              "      <th></th>\n",
              "      <th>id</th>\n",
              "      <th>name</th>\n",
              "      <th>host_id</th>\n",
              "      <th>host_name</th>\n",
              "      <th>neighbourhood_group</th>\n",
              "      <th>neighbourhood</th>\n",
              "      <th>latitude</th>\n",
              "      <th>longitude</th>\n",
              "      <th>room_type</th>\n",
              "      <th>price</th>\n",
              "      <th>minimum_nights</th>\n",
              "      <th>number_of_reviews</th>\n",
              "      <th>last_review</th>\n",
              "      <th>reviews_per_month</th>\n",
              "      <th>calculated_host_listings_count</th>\n",
              "      <th>availability_365</th>\n",
              "    </tr>\n",
              "  </thead>\n",
              "  <tbody>\n",
              "    <tr>\n",
              "      <th>2</th>\n",
              "      <td>3647</td>\n",
              "      <td>THE VILLAGE OF HARLEM....NEW YORK !</td>\n",
              "      <td>4632</td>\n",
              "      <td>Elisabeth</td>\n",
              "      <td>Manhattan</td>\n",
              "      <td>Harlem</td>\n",
              "      <td>40.80902</td>\n",
              "      <td>-73.94190</td>\n",
              "      <td>Private room</td>\n",
              "      <td>150</td>\n",
              "      <td>3</td>\n",
              "      <td>0</td>\n",
              "      <td>0</td>\n",
              "      <td>0.0</td>\n",
              "      <td>1</td>\n",
              "      <td>365</td>\n",
              "    </tr>\n",
              "    <tr>\n",
              "      <th>19</th>\n",
              "      <td>7750</td>\n",
              "      <td>Huge 2 BR Upper East  Cental Park</td>\n",
              "      <td>17985</td>\n",
              "      <td>Sing</td>\n",
              "      <td>Manhattan</td>\n",
              "      <td>East Harlem</td>\n",
              "      <td>40.79685</td>\n",
              "      <td>-73.94872</td>\n",
              "      <td>Entire home/apt</td>\n",
              "      <td>190</td>\n",
              "      <td>7</td>\n",
              "      <td>0</td>\n",
              "      <td>0</td>\n",
              "      <td>0.0</td>\n",
              "      <td>2</td>\n",
              "      <td>249</td>\n",
              "    </tr>\n",
              "    <tr>\n",
              "      <th>26</th>\n",
              "      <td>8700</td>\n",
              "      <td>Magnifique Suite au N de Manhattan - vue Cloitres</td>\n",
              "      <td>26394</td>\n",
              "      <td>Claude &amp; Sophie</td>\n",
              "      <td>Manhattan</td>\n",
              "      <td>Inwood</td>\n",
              "      <td>40.86754</td>\n",
              "      <td>-73.92639</td>\n",
              "      <td>Private room</td>\n",
              "      <td>80</td>\n",
              "      <td>4</td>\n",
              "      <td>0</td>\n",
              "      <td>0</td>\n",
              "      <td>0.0</td>\n",
              "      <td>1</td>\n",
              "      <td>0</td>\n",
              "    </tr>\n",
              "    <tr>\n",
              "      <th>36</th>\n",
              "      <td>11452</td>\n",
              "      <td>Clean and Quiet in Brooklyn</td>\n",
              "      <td>7355</td>\n",
              "      <td>Vt</td>\n",
              "      <td>Brooklyn</td>\n",
              "      <td>Bedford-Stuyvesant</td>\n",
              "      <td>40.68876</td>\n",
              "      <td>-73.94312</td>\n",
              "      <td>Private room</td>\n",
              "      <td>35</td>\n",
              "      <td>60</td>\n",
              "      <td>0</td>\n",
              "      <td>0</td>\n",
              "      <td>0.0</td>\n",
              "      <td>1</td>\n",
              "      <td>365</td>\n",
              "    </tr>\n",
              "    <tr>\n",
              "      <th>38</th>\n",
              "      <td>11943</td>\n",
              "      <td>Country space in the city</td>\n",
              "      <td>45445</td>\n",
              "      <td>Harriet</td>\n",
              "      <td>Brooklyn</td>\n",
              "      <td>Flatbush</td>\n",
              "      <td>40.63702</td>\n",
              "      <td>-73.96327</td>\n",
              "      <td>Private room</td>\n",
              "      <td>150</td>\n",
              "      <td>1</td>\n",
              "      <td>0</td>\n",
              "      <td>0</td>\n",
              "      <td>0.0</td>\n",
              "      <td>1</td>\n",
              "      <td>365</td>\n",
              "    </tr>\n",
              "  </tbody>\n",
              "</table>\n",
              "</div>\n",
              "      <button class=\"colab-df-convert\" onclick=\"convertToInteractive('df-7640c61a-4f4f-44c1-ba28-11246df6f97d')\"\n",
              "              title=\"Convert this dataframe to an interactive table.\"\n",
              "              style=\"display:none;\">\n",
              "        \n",
              "  <svg xmlns=\"http://www.w3.org/2000/svg\" height=\"24px\"viewBox=\"0 0 24 24\"\n",
              "       width=\"24px\">\n",
              "    <path d=\"M0 0h24v24H0V0z\" fill=\"none\"/>\n",
              "    <path d=\"M18.56 5.44l.94 2.06.94-2.06 2.06-.94-2.06-.94-.94-2.06-.94 2.06-2.06.94zm-11 1L8.5 8.5l.94-2.06 2.06-.94-2.06-.94L8.5 2.5l-.94 2.06-2.06.94zm10 10l.94 2.06.94-2.06 2.06-.94-2.06-.94-.94-2.06-.94 2.06-2.06.94z\"/><path d=\"M17.41 7.96l-1.37-1.37c-.4-.4-.92-.59-1.43-.59-.52 0-1.04.2-1.43.59L10.3 9.45l-7.72 7.72c-.78.78-.78 2.05 0 2.83L4 21.41c.39.39.9.59 1.41.59.51 0 1.02-.2 1.41-.59l7.78-7.78 2.81-2.81c.8-.78.8-2.07 0-2.86zM5.41 20L4 18.59l7.72-7.72 1.47 1.35L5.41 20z\"/>\n",
              "  </svg>\n",
              "      </button>\n",
              "      \n",
              "  <style>\n",
              "    .colab-df-container {\n",
              "      display:flex;\n",
              "      flex-wrap:wrap;\n",
              "      gap: 12px;\n",
              "    }\n",
              "\n",
              "    .colab-df-convert {\n",
              "      background-color: #E8F0FE;\n",
              "      border: none;\n",
              "      border-radius: 50%;\n",
              "      cursor: pointer;\n",
              "      display: none;\n",
              "      fill: #1967D2;\n",
              "      height: 32px;\n",
              "      padding: 0 0 0 0;\n",
              "      width: 32px;\n",
              "    }\n",
              "\n",
              "    .colab-df-convert:hover {\n",
              "      background-color: #E2EBFA;\n",
              "      box-shadow: 0px 1px 2px rgba(60, 64, 67, 0.3), 0px 1px 3px 1px rgba(60, 64, 67, 0.15);\n",
              "      fill: #174EA6;\n",
              "    }\n",
              "\n",
              "    [theme=dark] .colab-df-convert {\n",
              "      background-color: #3B4455;\n",
              "      fill: #D2E3FC;\n",
              "    }\n",
              "\n",
              "    [theme=dark] .colab-df-convert:hover {\n",
              "      background-color: #434B5C;\n",
              "      box-shadow: 0px 1px 3px 1px rgba(0, 0, 0, 0.15);\n",
              "      filter: drop-shadow(0px 1px 2px rgba(0, 0, 0, 0.3));\n",
              "      fill: #FFFFFF;\n",
              "    }\n",
              "  </style>\n",
              "\n",
              "      <script>\n",
              "        const buttonEl =\n",
              "          document.querySelector('#df-7640c61a-4f4f-44c1-ba28-11246df6f97d button.colab-df-convert');\n",
              "        buttonEl.style.display =\n",
              "          google.colab.kernel.accessAllowed ? 'block' : 'none';\n",
              "\n",
              "        async function convertToInteractive(key) {\n",
              "          const element = document.querySelector('#df-7640c61a-4f4f-44c1-ba28-11246df6f97d');\n",
              "          const dataTable =\n",
              "            await google.colab.kernel.invokeFunction('convertToInteractive',\n",
              "                                                     [key], {});\n",
              "          if (!dataTable) return;\n",
              "\n",
              "          const docLinkHtml = 'Like what you see? Visit the ' +\n",
              "            '<a target=\"_blank\" href=https://colab.research.google.com/notebooks/data_table.ipynb>data table notebook</a>'\n",
              "            + ' to learn more about interactive tables.';\n",
              "          element.innerHTML = '';\n",
              "          dataTable['output_type'] = 'display_data';\n",
              "          await google.colab.output.renderOutput(dataTable, element);\n",
              "          const docLink = document.createElement('div');\n",
              "          docLink.innerHTML = docLinkHtml;\n",
              "          element.appendChild(docLink);\n",
              "        }\n",
              "      </script>\n",
              "    </div>\n",
              "  </div>\n",
              "  "
            ],
            "text/plain": [
              "       id  ... availability_365\n",
              "2    3647  ...              365\n",
              "19   7750  ...              249\n",
              "26   8700  ...                0\n",
              "36  11452  ...              365\n",
              "38  11943  ...              365\n",
              "\n",
              "[5 rows x 16 columns]"
            ]
          },
          "metadata": {},
          "execution_count": 230
        }
      ]
    },
    {
      "cell_type": "code",
      "source": [
        "reviewed_df.last_review.dt.year.value_counts()"
      ],
      "metadata": {
        "colab": {
          "base_uri": "https://localhost:8080/"
        },
        "id": "nRMbM2HZ3one",
        "outputId": "d669018c-8292-498c-e6ef-9340d5e0e5df"
      },
      "execution_count": 231,
      "outputs": [
        {
          "output_type": "execute_result",
          "data": {
            "text/plain": [
              "2019    25209\n",
              "2018     6050\n",
              "2017     3205\n",
              "2016     2707\n",
              "2015     1393\n",
              "2014      199\n",
              "2013       48\n",
              "2012       25\n",
              "2011        7\n",
              "Name: last_review, dtype: int64"
            ]
          },
          "metadata": {},
          "execution_count": 231
        }
      ]
    },
    {
      "cell_type": "markdown",
      "source": [
        "# Pratheek T M \n",
        "\n",
        "## Primary Objective(1) : What can we learn about different hosts and areas?  "
      ],
      "metadata": {
        "id": "_y0rObi9yEZ4"
      }
    },
    {
      "cell_type": "markdown",
      "source": [
        "### As categorical column 'id' doesn't have any null values, we can proceed to solve our Primary Objective by referring to column 'id'.\n",
        "### Let's check whether each id in the given data is unique.\n",
        "### If not, we'll have to drop those duplicates of particular id's from in the data."
      ],
      "metadata": {
        "id": "jhyjuz6fqhpm"
      }
    },
    {
      "cell_type": "code",
      "source": [
        "if(len(airbnb_df[:]) == airbnb_df['id'].nunique()):\n",
        "  print('Each ID is unique')\n",
        "else:\n",
        "  print(\"There are duplicates of few ID's\")"
      ],
      "metadata": {
        "colab": {
          "base_uri": "https://localhost:8080/"
        },
        "id": "RbgipF9CkTGt",
        "outputId": "cf8e3e69-38e0-4d87-c7dc-9896f9ffa445"
      },
      "execution_count": 232,
      "outputs": [
        {
          "output_type": "stream",
          "name": "stdout",
          "text": [
            "Each ID is unique\n"
          ]
        }
      ]
    },
    {
      "cell_type": "markdown",
      "source": [
        "## Secondary Objective I : Number of Places present in each neighbourhood group of NYC"
      ],
      "metadata": {
        "id": "qoBewa4CsjQe"
      }
    },
    {
      "cell_type": "code",
      "source": [
        "# Create a list of unique neighbourhood groups\n",
        "neighbourhood_group_list = list(airbnb_df['neighbourhood_group'].unique())\n",
        "neighbourhood_group_list"
      ],
      "metadata": {
        "colab": {
          "base_uri": "https://localhost:8080/"
        },
        "id": "nthrhEsdBNUm",
        "outputId": "9d3cb5dd-1097-4671-e870-85b939fcc2ad"
      },
      "execution_count": 233,
      "outputs": [
        {
          "output_type": "execute_result",
          "data": {
            "text/plain": [
              "['Brooklyn', 'Manhattan', 'Queens', 'Staten Island', 'Bronx']"
            ]
          },
          "metadata": {},
          "execution_count": 233
        }
      ]
    },
    {
      "cell_type": "code",
      "source": [
        "# Additional features for Graphs\n",
        "IPython_default = plt.rcParams.copy()\n",
        "plt.rc('axes', facecolor = '#e6e6e6', edgecolor = 'none', axisbelow = True, grid = True)\n",
        "plt.rc('grid', color = 'w', linestyle = 'solid')\n",
        "plt.rc('patch', edgecolor = '#e6e6e6')\n",
        "plt.rc('lines', linewidth = 2)"
      ],
      "metadata": {
        "id": "OpS4wVfVXn-p"
      },
      "execution_count": 234,
      "outputs": []
    },
    {
      "cell_type": "code",
      "source": [
        "# Counting the number of places present in each Neighbourhood Group and then plotting a graph to depict the distribution.\n",
        "lst = []\n",
        "for group in neighbourhood_group_list:\n",
        "  host_count = airbnb_df[airbnb_df['neighbourhood_group'] == group]['id'].count()\n",
        "  lst.append([group,host_count])\n",
        "neighbourhood_group_df = pd.DataFrame(lst, columns=['lst_of_neighbourhood_groups','number of places'], index=neighbourhood_group_list).sort_values('number of places', ascending = False)\n",
        "plt.rcParams['figure.figsize'] = (10, 7)\n",
        "plt.bar(neighbourhood_group_df['lst_of_neighbourhood_groups'], neighbourhood_group_df['number of places'], color = '#a17700', width = 0.50)\n",
        "plt.title('Number of Places in each Neighbourhood Groups',fontsize = 18)\n",
        "plt.xlabel('Neighbourhood Groups',fontsize = 14)\n",
        "plt.ylabel('Number of Places',fontsize = 14)\n",
        "plt.xticks(rotation = 45, fontsize = 10)\n",
        "plt.yticks(fontsize = 10)\n",
        "plt.legend().remove()"
      ],
      "metadata": {
        "id": "9nMMk-q5pAgs",
        "colab": {
          "base_uri": "https://localhost:8080/",
          "height": 527
        },
        "outputId": "712b7223-d1ad-46c9-ddea-865fc0babbeb"
      },
      "execution_count": 235,
      "outputs": [
        {
          "output_type": "stream",
          "name": "stderr",
          "text": [
            "No handles with labels found to put in legend.\n"
          ]
        },
        {
          "output_type": "display_data",
          "data": {
            "image/png": "[encoded data removed]",
            "text/plain": [
              "<Figure size 720x504 with 1 Axes>"
            ]
          },
          "metadata": {
            "needs_background": "light"
          }
        }
      ]
    },
    {
      "cell_type": "markdown",
      "source": [
        "## Observations\n",
        "### -> The above graph depicts the distribution of Properties over different Neighbourhood Groups.\n",
        "\n",
        "### -> We can clearly see that Manhatten is hosting most number of Properties, while Brooklyn being in the second place."
      ],
      "metadata": {
        "id": "zQNw19zHA5qB"
      }
    },
    {
      "cell_type": "markdown",
      "source": [
        "## Secondary Objective 2 : Distribution of different kinds of room in each Neighbourhood Group"
      ],
      "metadata": {
        "id": "t9MUk6GSv_w7"
      }
    },
    {
      "cell_type": "code",
      "source": [
        "# Creating a list of different Room types offered on AIRBNB throughout NewYork City \n",
        "room_type_list = list(airbnb_df['room_type'].unique())"
      ],
      "metadata": {
        "id": "2pNZnltYxJcI"
      },
      "execution_count": 236,
      "outputs": []
    },
    {
      "cell_type": "code",
      "source": [
        "# Counting each type of Rooms distributed over different Nieghbourhood Groups of NewYork City. \n",
        "list_of_entireHomes = []\n",
        "for group in neighbourhood_group_list:\n",
        "  ehs = airbnb_df[(airbnb_df['neighbourhood_group'] == group) & (airbnb_df['room_type'] == room_type_list[1])]['id'].count()\n",
        "  list_of_entireHomes.append([group,ehs])\n",
        "number_of_EHs = pd.DataFrame(list_of_entireHomes, columns=['list_of_neighbourhood_groups','number_of_entireHomes'], index=neighbourhood_group_list).sort_values('number_of_entireHomes', ascending = False)\n",
        "print(f'Number of Entire Homes/Apt in each Neighbourhood Groups : \\n')\n",
        "display(number_of_EHs), print('\\n')\n",
        "\n",
        "list_of_privateRooms = []\n",
        "for group in neighbourhood_group_list:\n",
        "  prs = airbnb_df[(airbnb_df['neighbourhood_group'] == group) & (airbnb_df['room_type'] == room_type_list[0])]['id'].count()\n",
        "  list_of_privateRooms.append([group,prs])\n",
        "number_of_PRs = pd.DataFrame(list_of_privateRooms, columns=['list_of_neighbourhood_groups','number_of_privateRooms'], index=neighbourhood_group_list).sort_values('number_of_privateRooms', ascending = False)\n",
        "print(f'Number of Private Rooms in each Neighbourhood Groups : \\n')\n",
        "display(number_of_PRs), print('\\n')\n",
        "\n",
        "list_of_sharedRooms = []\n",
        "for group in neighbourhood_group_list:\n",
        "  srs = airbnb_df[(airbnb_df['neighbourhood_group'] == group) & (airbnb_df['room_type'] == room_type_list[2])]['id'].count()\n",
        "  list_of_sharedRooms.append([group,srs])\n",
        "number_of_SRs = pd.DataFrame(list_of_sharedRooms, columns=['list_of_neighbourhood_groups','number_of_sharedRooms'], index=neighbourhood_group_list).sort_values('number_of_sharedRooms', ascending = False)\n",
        "print('Number of Shared Rooms in each Neighbourhood Groups : \\n')\n",
        "display(number_of_SRs)"
      ],
      "metadata": {
        "colab": {
          "base_uri": "https://localhost:8080/",
          "height": 757
        },
        "id": "dageZp82v4cI",
        "outputId": "9344d4f3-7956-4a49-fbb4-7088b54ebec4"
      },
      "execution_count": 237,
      "outputs": [
        {
          "output_type": "stream",
          "name": "stdout",
          "text": [
            "Number of Entire Homes/Apt in each Neighbourhood Groups : \n",
            "\n"
          ]
        },
        {
          "output_type": "display_data",
          "data": {
            "text/html": [
              "\n",
              "  <div id=\"df-89134df2-98d8-4bde-bbe1-e5f395478fe3\">\n",
              "    <div class=\"colab-df-container\">\n",
              "      <div>\n",
              "<style scoped>\n",
              "    .dataframe tbody tr th:only-of-type {\n",
              "        vertical-align: middle;\n",
              "    }\n",
              "\n",
              "    .dataframe tbody tr th {\n",
              "        vertical-align: top;\n",
              "    }\n",
              "\n",
              "    .dataframe thead th {\n",
              "        text-align: right;\n",
              "    }\n",
              "</style>\n",
              "<table border=\"1\" class=\"dataframe\">\n",
              "  <thead>\n",
              "    <tr style=\"text-align: right;\">\n",
              "      <th></th>\n",
              "      <th>list_of_neighbourhood_groups</th>\n",
              "      <th>number_of_entireHomes</th>\n",
              "    </tr>\n",
              "  </thead>\n",
              "  <tbody>\n",
              "    <tr>\n",
              "      <th>Manhattan</th>\n",
              "      <td>Manhattan</td>\n",
              "      <td>13199</td>\n",
              "    </tr>\n",
              "    <tr>\n",
              "      <th>Brooklyn</th>\n",
              "      <td>Brooklyn</td>\n",
              "      <td>9559</td>\n",
              "    </tr>\n",
              "    <tr>\n",
              "      <th>Queens</th>\n",
              "      <td>Queens</td>\n",
              "      <td>2096</td>\n",
              "    </tr>\n",
              "    <tr>\n",
              "      <th>Bronx</th>\n",
              "      <td>Bronx</td>\n",
              "      <td>379</td>\n",
              "    </tr>\n",
              "    <tr>\n",
              "      <th>Staten Island</th>\n",
              "      <td>Staten Island</td>\n",
              "      <td>176</td>\n",
              "    </tr>\n",
              "  </tbody>\n",
              "</table>\n",
              "</div>\n",
              "      <button class=\"colab-df-convert\" onclick=\"convertToInteractive('df-89134df2-98d8-4bde-bbe1-e5f395478fe3')\"\n",
              "              title=\"Convert this dataframe to an interactive table.\"\n",
              "              style=\"display:none;\">\n",
              "        \n",
              "  <svg xmlns=\"http://www.w3.org/2000/svg\" height=\"24px\"viewBox=\"0 0 24 24\"\n",
              "       width=\"24px\">\n",
              "    <path d=\"M0 0h24v24H0V0z\" fill=\"none\"/>\n",
              "    <path d=\"M18.56 5.44l.94 2.06.94-2.06 2.06-.94-2.06-.94-.94-2.06-.94 2.06-2.06.94zm-11 1L8.5 8.5l.94-2.06 2.06-.94-2.06-.94L8.5 2.5l-.94 2.06-2.06.94zm10 10l.94 2.06.94-2.06 2.06-.94-2.06-.94-.94-2.06-.94 2.06-2.06.94z\"/><path d=\"M17.41 7.96l-1.37-1.37c-.4-.4-.92-.59-1.43-.59-.52 0-1.04.2-1.43.59L10.3 9.45l-7.72 7.72c-.78.78-.78 2.05 0 2.83L4 21.41c.39.39.9.59 1.41.59.51 0 1.02-.2 1.41-.59l7.78-7.78 2.81-2.81c.8-.78.8-2.07 0-2.86zM5.41 20L4 18.59l7.72-7.72 1.47 1.35L5.41 20z\"/>\n",
              "  </svg>\n",
              "      </button>\n",
              "      \n",
              "  <style>\n",
              "    .colab-df-container {\n",
              "      display:flex;\n",
              "      flex-wrap:wrap;\n",
              "      gap: 12px;\n",
              "    }\n",
              "\n",
              "    .colab-df-convert {\n",
              "      background-color: #E8F0FE;\n",
              "      border: none;\n",
              "      border-radius: 50%;\n",
              "      cursor: pointer;\n",
              "      display: none;\n",
              "      fill: #1967D2;\n",
              "      height: 32px;\n",
              "      padding: 0 0 0 0;\n",
              "      width: 32px;\n",
              "    }\n",
              "\n",
              "    .colab-df-convert:hover {\n",
              "      background-color: #E2EBFA;\n",
              "      box-shadow: 0px 1px 2px rgba(60, 64, 67, 0.3), 0px 1px 3px 1px rgba(60, 64, 67, 0.15);\n",
              "      fill: #174EA6;\n",
              "    }\n",
              "\n",
              "    [theme=dark] .colab-df-convert {\n",
              "      background-color: #3B4455;\n",
              "      fill: #D2E3FC;\n",
              "    }\n",
              "\n",
              "    [theme=dark] .colab-df-convert:hover {\n",
              "      background-color: #434B5C;\n",
              "      box-shadow: 0px 1px 3px 1px rgba(0, 0, 0, 0.15);\n",
              "      filter: drop-shadow(0px 1px 2px rgba(0, 0, 0, 0.3));\n",
              "      fill: #FFFFFF;\n",
              "    }\n",
              "  </style>\n",
              "\n",
              "      <script>\n",
              "        const buttonEl =\n",
              "          document.querySelector('#df-89134df2-98d8-4bde-bbe1-e5f395478fe3 button.colab-df-convert');\n",
              "        buttonEl.style.display =\n",
              "          google.colab.kernel.accessAllowed ? 'block' : 'none';\n",
              "\n",
              "        async function convertToInteractive(key) {\n",
              "          const element = document.querySelector('#df-89134df2-98d8-4bde-bbe1-e5f395478fe3');\n",
              "          const dataTable =\n",
              "            await google.colab.kernel.invokeFunction('convertToInteractive',\n",
              "                                                     [key], {});\n",
              "          if (!dataTable) return;\n",
              "\n",
              "          const docLinkHtml = 'Like what you see? Visit the ' +\n",
              "            '<a target=\"_blank\" href=https://colab.research.google.com/notebooks/data_table.ipynb>data table notebook</a>'\n",
              "            + ' to learn more about interactive tables.';\n",
              "          element.innerHTML = '';\n",
              "          dataTable['output_type'] = 'display_data';\n",
              "          await google.colab.output.renderOutput(dataTable, element);\n",
              "          const docLink = document.createElement('div');\n",
              "          docLink.innerHTML = docLinkHtml;\n",
              "          element.appendChild(docLink);\n",
              "        }\n",
              "      </script>\n",
              "    </div>\n",
              "  </div>\n",
              "  "
            ],
            "text/plain": [
              "              list_of_neighbourhood_groups  number_of_entireHomes\n",
              "Manhattan                        Manhattan                  13199\n",
              "Brooklyn                          Brooklyn                   9559\n",
              "Queens                              Queens                   2096\n",
              "Bronx                                Bronx                    379\n",
              "Staten Island                Staten Island                    176"
            ]
          },
          "metadata": {}
        },
        {
          "output_type": "stream",
          "name": "stdout",
          "text": [
            "\n",
            "\n",
            "Number of Private Rooms in each Neighbourhood Groups : \n",
            "\n"
          ]
        },
        {
          "output_type": "display_data",
          "data": {
            "text/html": [
              "\n",
              "  <div id=\"df-c263daf8-9905-4dbc-9704-4f44c8a2ee35\">\n",
              "    <div class=\"colab-df-container\">\n",
              "      <div>\n",
              "<style scoped>\n",
              "    .dataframe tbody tr th:only-of-type {\n",
              "        vertical-align: middle;\n",
              "    }\n",
              "\n",
              "    .dataframe tbody tr th {\n",
              "        vertical-align: top;\n",
              "    }\n",
              "\n",
              "    .dataframe thead th {\n",
              "        text-align: right;\n",
              "    }\n",
              "</style>\n",
              "<table border=\"1\" class=\"dataframe\">\n",
              "  <thead>\n",
              "    <tr style=\"text-align: right;\">\n",
              "      <th></th>\n",
              "      <th>list_of_neighbourhood_groups</th>\n",
              "      <th>number_of_privateRooms</th>\n",
              "    </tr>\n",
              "  </thead>\n",
              "  <tbody>\n",
              "    <tr>\n",
              "      <th>Brooklyn</th>\n",
              "      <td>Brooklyn</td>\n",
              "      <td>10132</td>\n",
              "    </tr>\n",
              "    <tr>\n",
              "      <th>Manhattan</th>\n",
              "      <td>Manhattan</td>\n",
              "      <td>7982</td>\n",
              "    </tr>\n",
              "    <tr>\n",
              "      <th>Queens</th>\n",
              "      <td>Queens</td>\n",
              "      <td>3372</td>\n",
              "    </tr>\n",
              "    <tr>\n",
              "      <th>Bronx</th>\n",
              "      <td>Bronx</td>\n",
              "      <td>652</td>\n",
              "    </tr>\n",
              "    <tr>\n",
              "      <th>Staten Island</th>\n",
              "      <td>Staten Island</td>\n",
              "      <td>188</td>\n",
              "    </tr>\n",
              "  </tbody>\n",
              "</table>\n",
              "</div>\n",
              "      <button class=\"colab-df-convert\" onclick=\"convertToInteractive('df-c263daf8-9905-4dbc-9704-4f44c8a2ee35')\"\n",
              "              title=\"Convert this dataframe to an interactive table.\"\n",
              "              style=\"display:none;\">\n",
              "        \n",
              "  <svg xmlns=\"http://www.w3.org/2000/svg\" height=\"24px\"viewBox=\"0 0 24 24\"\n",
              "       width=\"24px\">\n",
              "    <path d=\"M0 0h24v24H0V0z\" fill=\"none\"/>\n",
              "    <path d=\"M18.56 5.44l.94 2.06.94-2.06 2.06-.94-2.06-.94-.94-2.06-.94 2.06-2.06.94zm-11 1L8.5 8.5l.94-2.06 2.06-.94-2.06-.94L8.5 2.5l-.94 2.06-2.06.94zm10 10l.94 2.06.94-2.06 2.06-.94-2.06-.94-.94-2.06-.94 2.06-2.06.94z\"/><path d=\"M17.41 7.96l-1.37-1.37c-.4-.4-.92-.59-1.43-.59-.52 0-1.04.2-1.43.59L10.3 9.45l-7.72 7.72c-.78.78-.78 2.05 0 2.83L4 21.41c.39.39.9.59 1.41.59.51 0 1.02-.2 1.41-.59l7.78-7.78 2.81-2.81c.8-.78.8-2.07 0-2.86zM5.41 20L4 18.59l7.72-7.72 1.47 1.35L5.41 20z\"/>\n",
              "  </svg>\n",
              "      </button>\n",
              "      \n",
              "  <style>\n",
              "    .colab-df-container {\n",
              "      display:flex;\n",
              "      flex-wrap:wrap;\n",
              "      gap: 12px;\n",
              "    }\n",
              "\n",
              "    .colab-df-convert {\n",
              "      background-color: #E8F0FE;\n",
              "      border: none;\n",
              "      border-radius: 50%;\n",
              "      cursor: pointer;\n",
              "      display: none;\n",
              "      fill: #1967D2;\n",
              "      height: 32px;\n",
              "      padding: 0 0 0 0;\n",
              "      width: 32px;\n",
              "    }\n",
              "\n",
              "    .colab-df-convert:hover {\n",
              "      background-color: #E2EBFA;\n",
              "      box-shadow: 0px 1px 2px rgba(60, 64, 67, 0.3), 0px 1px 3px 1px rgba(60, 64, 67, 0.15);\n",
              "      fill: #174EA6;\n",
              "    }\n",
              "\n",
              "    [theme=dark] .colab-df-convert {\n",
              "      background-color: #3B4455;\n",
              "      fill: #D2E3FC;\n",
              "    }\n",
              "\n",
              "    [theme=dark] .colab-df-convert:hover {\n",
              "      background-color: #434B5C;\n",
              "      box-shadow: 0px 1px 3px 1px rgba(0, 0, 0, 0.15);\n",
              "      filter: drop-shadow(0px 1px 2px rgba(0, 0, 0, 0.3));\n",
              "      fill: #FFFFFF;\n",
              "    }\n",
              "  </style>\n",
              "\n",
              "      <script>\n",
              "        const buttonEl =\n",
              "          document.querySelector('#df-c263daf8-9905-4dbc-9704-4f44c8a2ee35 button.colab-df-convert');\n",
              "        buttonEl.style.display =\n",
              "          google.colab.kernel.accessAllowed ? 'block' : 'none';\n",
              "\n",
              "        async function convertToInteractive(key) {\n",
              "          const element = document.querySelector('#df-c263daf8-9905-4dbc-9704-4f44c8a2ee35');\n",
              "          const dataTable =\n",
              "            await google.colab.kernel.invokeFunction('convertToInteractive',\n",
              "                                                     [key], {});\n",
              "          if (!dataTable) return;\n",
              "\n",
              "          const docLinkHtml = 'Like what you see? Visit the ' +\n",
              "            '<a target=\"_blank\" href=https://colab.research.google.com/notebooks/data_table.ipynb>data table notebook</a>'\n",
              "            + ' to learn more about interactive tables.';\n",
              "          element.innerHTML = '';\n",
              "          dataTable['output_type'] = 'display_data';\n",
              "          await google.colab.output.renderOutput(dataTable, element);\n",
              "          const docLink = document.createElement('div');\n",
              "          docLink.innerHTML = docLinkHtml;\n",
              "          element.appendChild(docLink);\n",
              "        }\n",
              "      </script>\n",
              "    </div>\n",
              "  </div>\n",
              "  "
            ],
            "text/plain": [
              "              list_of_neighbourhood_groups  number_of_privateRooms\n",
              "Brooklyn                          Brooklyn                   10132\n",
              "Manhattan                        Manhattan                    7982\n",
              "Queens                              Queens                    3372\n",
              "Bronx                                Bronx                     652\n",
              "Staten Island                Staten Island                     188"
            ]
          },
          "metadata": {}
        },
        {
          "output_type": "stream",
          "name": "stdout",
          "text": [
            "\n",
            "\n",
            "Number of Shared Rooms in each Neighbourhood Groups : \n",
            "\n"
          ]
        },
        {
          "output_type": "display_data",
          "data": {
            "text/html": [
              "\n",
              "  <div id=\"df-2928ac42-87c2-4c5f-ab57-035b333d8a3c\">\n",
              "    <div class=\"colab-df-container\">\n",
              "      <div>\n",
              "<style scoped>\n",
              "    .dataframe tbody tr th:only-of-type {\n",
              "        vertical-align: middle;\n",
              "    }\n",
              "\n",
              "    .dataframe tbody tr th {\n",
              "        vertical-align: top;\n",
              "    }\n",
              "\n",
              "    .dataframe thead th {\n",
              "        text-align: right;\n",
              "    }\n",
              "</style>\n",
              "<table border=\"1\" class=\"dataframe\">\n",
              "  <thead>\n",
              "    <tr style=\"text-align: right;\">\n",
              "      <th></th>\n",
              "      <th>list_of_neighbourhood_groups</th>\n",
              "      <th>number_of_sharedRooms</th>\n",
              "    </tr>\n",
              "  </thead>\n",
              "  <tbody>\n",
              "    <tr>\n",
              "      <th>Manhattan</th>\n",
              "      <td>Manhattan</td>\n",
              "      <td>480</td>\n",
              "    </tr>\n",
              "    <tr>\n",
              "      <th>Brooklyn</th>\n",
              "      <td>Brooklyn</td>\n",
              "      <td>413</td>\n",
              "    </tr>\n",
              "    <tr>\n",
              "      <th>Queens</th>\n",
              "      <td>Queens</td>\n",
              "      <td>198</td>\n",
              "    </tr>\n",
              "    <tr>\n",
              "      <th>Bronx</th>\n",
              "      <td>Bronx</td>\n",
              "      <td>60</td>\n",
              "    </tr>\n",
              "    <tr>\n",
              "      <th>Staten Island</th>\n",
              "      <td>Staten Island</td>\n",
              "      <td>9</td>\n",
              "    </tr>\n",
              "  </tbody>\n",
              "</table>\n",
              "</div>\n",
              "      <button class=\"colab-df-convert\" onclick=\"convertToInteractive('df-2928ac42-87c2-4c5f-ab57-035b333d8a3c')\"\n",
              "              title=\"Convert this dataframe to an interactive table.\"\n",
              "              style=\"display:none;\">\n",
              "        \n",
              "  <svg xmlns=\"http://www.w3.org/2000/svg\" height=\"24px\"viewBox=\"0 0 24 24\"\n",
              "       width=\"24px\">\n",
              "    <path d=\"M0 0h24v24H0V0z\" fill=\"none\"/>\n",
              "    <path d=\"M18.56 5.44l.94 2.06.94-2.06 2.06-.94-2.06-.94-.94-2.06-.94 2.06-2.06.94zm-11 1L8.5 8.5l.94-2.06 2.06-.94-2.06-.94L8.5 2.5l-.94 2.06-2.06.94zm10 10l.94 2.06.94-2.06 2.06-.94-2.06-.94-.94-2.06-.94 2.06-2.06.94z\"/><path d=\"M17.41 7.96l-1.37-1.37c-.4-.4-.92-.59-1.43-.59-.52 0-1.04.2-1.43.59L10.3 9.45l-7.72 7.72c-.78.78-.78 2.05 0 2.83L4 21.41c.39.39.9.59 1.41.59.51 0 1.02-.2 1.41-.59l7.78-7.78 2.81-2.81c.8-.78.8-2.07 0-2.86zM5.41 20L4 18.59l7.72-7.72 1.47 1.35L5.41 20z\"/>\n",
              "  </svg>\n",
              "      </button>\n",
              "      \n",
              "  <style>\n",
              "    .colab-df-container {\n",
              "      display:flex;\n",
              "      flex-wrap:wrap;\n",
              "      gap: 12px;\n",
              "    }\n",
              "\n",
              "    .colab-df-convert {\n",
              "      background-color: #E8F0FE;\n",
              "      border: none;\n",
              "      border-radius: 50%;\n",
              "      cursor: pointer;\n",
              "      display: none;\n",
              "      fill: #1967D2;\n",
              "      height: 32px;\n",
              "      padding: 0 0 0 0;\n",
              "      width: 32px;\n",
              "    }\n",
              "\n",
              "    .colab-df-convert:hover {\n",
              "      background-color: #E2EBFA;\n",
              "      box-shadow: 0px 1px 2px rgba(60, 64, 67, 0.3), 0px 1px 3px 1px rgba(60, 64, 67, 0.15);\n",
              "      fill: #174EA6;\n",
              "    }\n",
              "\n",
              "    [theme=dark] .colab-df-convert {\n",
              "      background-color: #3B4455;\n",
              "      fill: #D2E3FC;\n",
              "    }\n",
              "\n",
              "    [theme=dark] .colab-df-convert:hover {\n",
              "      background-color: #434B5C;\n",
              "      box-shadow: 0px 1px 3px 1px rgba(0, 0, 0, 0.15);\n",
              "      filter: drop-shadow(0px 1px 2px rgba(0, 0, 0, 0.3));\n",
              "      fill: #FFFFFF;\n",
              "    }\n",
              "  </style>\n",
              "\n",
              "      <script>\n",
              "        const buttonEl =\n",
              "          document.querySelector('#df-2928ac42-87c2-4c5f-ab57-035b333d8a3c button.colab-df-convert');\n",
              "        buttonEl.style.display =\n",
              "          google.colab.kernel.accessAllowed ? 'block' : 'none';\n",
              "\n",
              "        async function convertToInteractive(key) {\n",
              "          const element = document.querySelector('#df-2928ac42-87c2-4c5f-ab57-035b333d8a3c');\n",
              "          const dataTable =\n",
              "            await google.colab.kernel.invokeFunction('convertToInteractive',\n",
              "                                                     [key], {});\n",
              "          if (!dataTable) return;\n",
              "\n",
              "          const docLinkHtml = 'Like what you see? Visit the ' +\n",
              "            '<a target=\"_blank\" href=https://colab.research.google.com/notebooks/data_table.ipynb>data table notebook</a>'\n",
              "            + ' to learn more about interactive tables.';\n",
              "          element.innerHTML = '';\n",
              "          dataTable['output_type'] = 'display_data';\n",
              "          await google.colab.output.renderOutput(dataTable, element);\n",
              "          const docLink = document.createElement('div');\n",
              "          docLink.innerHTML = docLinkHtml;\n",
              "          element.appendChild(docLink);\n",
              "        }\n",
              "      </script>\n",
              "    </div>\n",
              "  </div>\n",
              "  "
            ],
            "text/plain": [
              "              list_of_neighbourhood_groups  number_of_sharedRooms\n",
              "Manhattan                        Manhattan                    480\n",
              "Brooklyn                          Brooklyn                    413\n",
              "Queens                              Queens                    198\n",
              "Bronx                                Bronx                     60\n",
              "Staten Island                Staten Island                      9"
            ]
          },
          "metadata": {}
        }
      ]
    },
    {
      "cell_type": "code",
      "source": [
        "# Plotting the above data to depict the distribution over each Neighbourhood Group\n",
        "plt.rcParams['figure.figsize'] = (10, 6)\n",
        "x_axis = np.arange(len(neighbourhood_group_list))\n",
        "bar3 = plt.subplot()\n",
        "plt.bar(x_axis - 0.25,  number_of_EHs['number_of_entireHomes'], width = 0.25, label = 'Entire Homes/apt', color = '#800080')\n",
        "plt.bar(x_axis , number_of_PRs['number_of_privateRooms'], width = 0.25, label = 'Private Rooms', color = '#008080')\n",
        "plt.bar(x_axis + 0.25, number_of_SRs['number_of_sharedRooms'], width = 0.25, label = 'Shared Rooms', color = '#808000')\n",
        "plt.xticks(rotation = 45, ticks=[0,1,2,3,4], labels = neighbourhood_group_list, fontsize = 10)\n",
        "plt.yticks(fontsize = 10)\n",
        "plt.legend(prop = {'size' : 10})\n",
        "bar3.set_title('Number of Different Types of Rooms\\nwithinin each Neigbourhood Group', fontsize = 18)\n",
        "bar3.set_xlabel('Neighbourhood Groups', fontsize = 14)\n",
        "bar3.set_ylabel('Number of Different Room Types', fontsize = 14)"
      ],
      "metadata": {
        "colab": {
          "base_uri": "https://localhost:8080/",
          "height": 493
        },
        "id": "zMqzduB41EDK",
        "outputId": "da7ddca8-b35f-4410-ebfc-062802194e67"
      },
      "execution_count": 238,
      "outputs": [
        {
          "output_type": "execute_result",
          "data": {
            "text/plain": [
              "Text(0, 0.5, 'Number of Different Room Types')"
            ]
          },
          "metadata": {},
          "execution_count": 238
        },
        {
          "output_type": "display_data",
          "data": {
            "image/png": "[encoded data removed]",
            "text/plain": [
              "<Figure size 720x432 with 1 Axes>"
            ]
          },
          "metadata": {
            "needs_background": "light"
          }
        }
      ]
    },
    {
      "cell_type": "markdown",
      "source": [
        "## Obsevations\n",
        "### -> The above multi-graph shows the distribution of different Types of Rooms over different Neighbourhood Groups.\n",
        "\n",
        "### -> We can see that Customers who seek AIRBNB for places ususally prefer either Entire Home/Apartments or Private Rooms over shared rooms. In other words AIRBNB offers more places that aid the privacy together with affordability for the customers.\n",
        "\n",
        "### -> We can also see that Brooklyn and Manhatten are most preferred Neighbourhood Groups to have an accommodation overall."
      ],
      "metadata": {
        "id": "-map4oKJEHng"
      }
    },
    {
      "cell_type": "markdown",
      "source": [
        "## Secondary Objective 3 : Top Bussiest Place Types"
      ],
      "metadata": {
        "id": "L1oxMztkYTiy"
      }
    },
    {
      "cell_type": "code",
      "source": [
        "# Sorting All Reviewed rows according to reviews per month and assigning top 100 of this dataframe to a variable.\n",
        "sorted_reviewed = reviewed_df.sort_values('reviews_per_month', ascending = False)[:100].reset_index()"
      ],
      "metadata": {
        "id": "9ZJHahyXJoJU"
      },
      "execution_count": 239,
      "outputs": []
    },
    {
      "cell_type": "code",
      "source": [
        "# Counting each type of rooms within Top 100 Bussiest places\n",
        "top_privateRooms_count = sorted_reviewed[sorted_reviewed['room_type'] == room_type_list[0]]['id'].count()\n",
        "top_entireHomes_count = sorted_reviewed[sorted_reviewed['room_type'] == room_type_list[1]]['id'].count()\n",
        "top_sharedRooms_count = sorted_reviewed[sorted_reviewed['room_type'] == room_type_list[2]]['id'].count()\n",
        "list_of_counts = [top_privateRooms_count, top_entireHomes_count, top_sharedRooms_count]\n",
        "plt.rcParams['figure.figsize'] = (7,7)\n",
        "xp = [0.03,0.03,0.03]\n",
        "plt.pie(list_of_counts, labels = room_type_list, colors = ['#008080','#800080', '#808000'], autopct = '%.0f properties', explode = xp,shadow = True, startangle = 45)\n",
        "plt.title('Frequency of Top 100 bussiest Properties\\nwith respect to their Room Types', fontsize = 18 )"
      ],
      "metadata": {
        "colab": {
          "base_uri": "https://localhost:8080/",
          "height": 469
        },
        "id": "bas1gPYqSba0",
        "outputId": "824f964c-3c52-4d3e-9a2e-f1bb6235393a"
      },
      "execution_count": 240,
      "outputs": [
        {
          "output_type": "execute_result",
          "data": {
            "text/plain": [
              "Text(0.5, 1.0, 'Frequency of Top 100 bussiest Properties\\nwith respect to their Room Types')"
            ]
          },
          "metadata": {},
          "execution_count": 240
        },
        {
          "output_type": "display_data",
          "data": {
            "image/png": "[encoded data removed]",
            "text/plain": [
              "<Figure size 504x504 with 1 Axes>"
            ]
          },
          "metadata": {}
        }
      ]
    },
    {
      "cell_type": "markdown",
      "source": [
        "## Observation\n",
        "### -> Above Graph depects the Frequency of different room types for top 100 Bussiest Places\n",
        "\n",
        "### -> We can see that Private Rooms the are most bussiest and Shared rooms are the least."
      ],
      "metadata": {
        "id": "gnIX0ebiaMh6"
      }
    },
    {
      "cell_type": "markdown",
      "source": [
        "## Secondary Objective 4 : Distribution of different types of Rooms for each Neighbourhoods."
      ],
      "metadata": {
        "id": "__psG5YNgIEh"
      }
    },
    {
      "cell_type": "code",
      "source": [
        "# Creating a list of Neighbourhoods.\n",
        "neighbourhood_list = list(airbnb_df['neighbourhood'].unique())\n",
        "number_of_neighbourhoods = airbnb_df['neighbourhood'].nunique()\n",
        "print(f'Number of total Neighbourhoods in NYC is {number_of_neighbourhoods}')\n",
        "print(f'List of all Neighbourhoods in NYC : {neighbourhood_list}')"
      ],
      "metadata": {
        "id": "IGaQnfJq2DTS",
        "colab": {
          "base_uri": "https://localhost:8080/"
        },
        "outputId": "c6860470-34fc-4650-d24c-5c7b91be5452"
      },
      "execution_count": 241,
      "outputs": [
        {
          "output_type": "stream",
          "name": "stdout",
          "text": [
            "Number of total Neighbourhoods in NYC is 221\n",
            "List of all Neighbourhoods in NYC : ['Kensington', 'Midtown', 'Harlem', 'Clinton Hill', 'East Harlem', 'Murray Hill', 'Bedford-Stuyvesant', \"Hell's Kitchen\", 'Upper West Side', 'Chinatown', 'South Slope', 'West Village', 'Williamsburg', 'Fort Greene', 'Chelsea', 'Crown Heights', 'Park Slope', 'Windsor Terrace', 'Inwood', 'East Village', 'Greenpoint', 'Bushwick', 'Flatbush', 'Lower East Side', 'Prospect-Lefferts Gardens', 'Long Island City', 'Kips Bay', 'SoHo', 'Upper East Side', 'Prospect Heights', 'Washington Heights', 'Woodside', 'Brooklyn Heights', 'Carroll Gardens', 'Gowanus', 'Flatlands', 'Cobble Hill', 'Flushing', 'Boerum Hill', 'Sunnyside', 'DUMBO', 'St. George', 'Highbridge', 'Financial District', 'Ridgewood', 'Morningside Heights', 'Jamaica', 'Middle Village', 'NoHo', 'Ditmars Steinway', 'Flatiron District', 'Roosevelt Island', 'Greenwich Village', 'Little Italy', 'East Flatbush', 'Tompkinsville', 'Astoria', 'Clason Point', 'Eastchester', 'Kingsbridge', 'Two Bridges', 'Queens Village', 'Rockaway Beach', 'Forest Hills', 'Nolita', 'Woodlawn', 'University Heights', 'Gravesend', 'Gramercy', 'Allerton', 'East New York', 'Theater District', 'Concourse Village', 'Sheepshead Bay', 'Emerson Hill', 'Fort Hamilton', 'Bensonhurst', 'Tribeca', 'Shore Acres', 'Sunset Park', 'Concourse', 'Elmhurst', 'Brighton Beach', 'Jackson Heights', 'Cypress Hills', 'St. Albans', 'Arrochar', 'Rego Park', 'Wakefield', 'Clifton', 'Bay Ridge', 'Graniteville', 'Spuyten Duyvil', 'Stapleton', 'Briarwood', 'Ozone Park', 'Columbia St', 'Vinegar Hill', 'Mott Haven', 'Longwood', 'Canarsie', 'Battery Park City', 'Civic Center', 'East Elmhurst', 'New Springville', 'Morris Heights', 'Arverne', 'Cambria Heights', 'Tottenville', 'Mariners Harbor', 'Concord', 'Borough Park', 'Bayside', 'Downtown Brooklyn', 'Port Morris', 'Fieldston', 'Kew Gardens', 'Midwood', 'College Point', 'Mount Eden', 'City Island', 'Glendale', 'Port Richmond', 'Red Hook', 'Richmond Hill', 'Bellerose', 'Maspeth', 'Williamsbridge', 'Soundview', 'Woodhaven', 'Woodrow', 'Co-op City', 'Stuyvesant Town', 'Parkchester', 'North Riverdale', 'Dyker Heights', 'Bronxdale', 'Sea Gate', 'Riverdale', 'Kew Gardens Hills', 'Bay Terrace', 'Norwood', 'Claremont Village', 'Whitestone', 'Fordham', 'Bayswater', 'Navy Yard', 'Brownsville', 'Eltingville', 'Fresh Meadows', 'Mount Hope', 'Lighthouse Hill', 'Springfield Gardens', 'Howard Beach', 'Belle Harbor', 'Jamaica Estates', 'Van Nest', 'Morris Park', 'West Brighton', 'Far Rockaway', 'South Ozone Park', 'Tremont', 'Corona', 'Great Kills', 'Manhattan Beach', 'Marble Hill', 'Dongan Hills', 'Castleton Corners', 'East Morrisania', 'Hunts Point', 'Neponsit', 'Pelham Bay', 'Randall Manor', 'Throgs Neck', 'Todt Hill', 'West Farms', 'Silver Lake', 'Morrisania', 'Laurelton', 'Grymes Hill', 'Holliswood', 'Pelham Gardens', 'Belmont', 'Rosedale', 'Edgemere', 'New Brighton', 'Midland Beach', 'Baychester', 'Melrose', 'Bergen Beach', 'Richmondtown', 'Howland Hook', 'Schuylerville', 'Coney Island', 'New Dorp Beach', \"Prince's Bay\", 'South Beach', 'Bath Beach', 'Jamaica Hills', 'Oakwood', 'Castle Hill', 'Hollis', 'Douglaston', 'Huguenot', 'Olinville', 'Edenwald', 'Grant City', 'Westerleigh', 'Bay Terrace, Staten Island', 'Westchester Square', 'Little Neck', 'Fort Wadsworth', 'Rosebank', 'Unionport', 'Mill Basin', 'Arden Heights', \"Bull's Head\", 'New Dorp', 'Rossville', 'Breezy Point', 'Willowbrook']\n"
          ]
        }
      ]
    },
    {
      "cell_type": "code",
      "source": [
        "# Counting number Places in each Neighbourhood. \n",
        "lst1 = []\n",
        "for area in neighbourhood_list:\n",
        "  id_count = airbnb_df[airbnb_df['neighbourhood'] == area]['id'].count()\n",
        "  lst1.append([area,id_count])\n",
        "neighbourhood_df = pd.DataFrame(lst1, columns=['list_of_neighbourhoods','number_of_places'])\n",
        "sorted_ndf = neighbourhood_df.sort_values('number_of_places', ascending = False).reset_index()\n",
        "print('Top 10 most preferred neighbourhoods for any kind of stay are : \\n')\n",
        "display(sorted_ndf.head(10))"
      ],
      "metadata": {
        "colab": {
          "base_uri": "https://localhost:8080/",
          "height": 397
        },
        "id": "HkcONpYfg9Jn",
        "outputId": "33f416a0-c4c2-4451-f75e-07bd25c4515c"
      },
      "execution_count": 242,
      "outputs": [
        {
          "output_type": "stream",
          "name": "stdout",
          "text": [
            "Top 10 most preferred neighbourhoods for any kind of stay are : \n",
            "\n"
          ]
        },
        {
          "output_type": "display_data",
          "data": {
            "text/html": [
              "\n",
              "  <div id=\"df-eb14c660-a12f-4eeb-87b2-48a127494a4a\">\n",
              "    <div class=\"colab-df-container\">\n",
              "      <div>\n",
              "<style scoped>\n",
              "    .dataframe tbody tr th:only-of-type {\n",
              "        vertical-align: middle;\n",
              "    }\n",
              "\n",
              "    .dataframe tbody tr th {\n",
              "        vertical-align: top;\n",
              "    }\n",
              "\n",
              "    .dataframe thead th {\n",
              "        text-align: right;\n",
              "    }\n",
              "</style>\n",
              "<table border=\"1\" class=\"dataframe\">\n",
              "  <thead>\n",
              "    <tr style=\"text-align: right;\">\n",
              "      <th></th>\n",
              "      <th>index</th>\n",
              "      <th>list_of_neighbourhoods</th>\n",
              "      <th>number_of_places</th>\n",
              "    </tr>\n",
              "  </thead>\n",
              "  <tbody>\n",
              "    <tr>\n",
              "      <th>0</th>\n",
              "      <td>12</td>\n",
              "      <td>Williamsburg</td>\n",
              "      <td>3920</td>\n",
              "    </tr>\n",
              "    <tr>\n",
              "      <th>1</th>\n",
              "      <td>6</td>\n",
              "      <td>Bedford-Stuyvesant</td>\n",
              "      <td>3714</td>\n",
              "    </tr>\n",
              "    <tr>\n",
              "      <th>2</th>\n",
              "      <td>2</td>\n",
              "      <td>Harlem</td>\n",
              "      <td>2658</td>\n",
              "    </tr>\n",
              "    <tr>\n",
              "      <th>3</th>\n",
              "      <td>21</td>\n",
              "      <td>Bushwick</td>\n",
              "      <td>2465</td>\n",
              "    </tr>\n",
              "    <tr>\n",
              "      <th>4</th>\n",
              "      <td>8</td>\n",
              "      <td>Upper West Side</td>\n",
              "      <td>1971</td>\n",
              "    </tr>\n",
              "    <tr>\n",
              "      <th>5</th>\n",
              "      <td>7</td>\n",
              "      <td>Hell's Kitchen</td>\n",
              "      <td>1958</td>\n",
              "    </tr>\n",
              "    <tr>\n",
              "      <th>6</th>\n",
              "      <td>19</td>\n",
              "      <td>East Village</td>\n",
              "      <td>1853</td>\n",
              "    </tr>\n",
              "    <tr>\n",
              "      <th>7</th>\n",
              "      <td>28</td>\n",
              "      <td>Upper East Side</td>\n",
              "      <td>1798</td>\n",
              "    </tr>\n",
              "    <tr>\n",
              "      <th>8</th>\n",
              "      <td>15</td>\n",
              "      <td>Crown Heights</td>\n",
              "      <td>1564</td>\n",
              "    </tr>\n",
              "    <tr>\n",
              "      <th>9</th>\n",
              "      <td>1</td>\n",
              "      <td>Midtown</td>\n",
              "      <td>1545</td>\n",
              "    </tr>\n",
              "  </tbody>\n",
              "</table>\n",
              "</div>\n",
              "      <button class=\"colab-df-convert\" onclick=\"convertToInteractive('df-eb14c660-a12f-4eeb-87b2-48a127494a4a')\"\n",
              "              title=\"Convert this dataframe to an interactive table.\"\n",
              "              style=\"display:none;\">\n",
              "        \n",
              "  <svg xmlns=\"http://www.w3.org/2000/svg\" height=\"24px\"viewBox=\"0 0 24 24\"\n",
              "       width=\"24px\">\n",
              "    <path d=\"M0 0h24v24H0V0z\" fill=\"none\"/>\n",
              "    <path d=\"M18.56 5.44l.94 2.06.94-2.06 2.06-.94-2.06-.94-.94-2.06-.94 2.06-2.06.94zm-11 1L8.5 8.5l.94-2.06 2.06-.94-2.06-.94L8.5 2.5l-.94 2.06-2.06.94zm10 10l.94 2.06.94-2.06 2.06-.94-2.06-.94-.94-2.06-.94 2.06-2.06.94z\"/><path d=\"M17.41 7.96l-1.37-1.37c-.4-.4-.92-.59-1.43-.59-.52 0-1.04.2-1.43.59L10.3 9.45l-7.72 7.72c-.78.78-.78 2.05 0 2.83L4 21.41c.39.39.9.59 1.41.59.51 0 1.02-.2 1.41-.59l7.78-7.78 2.81-2.81c.8-.78.8-2.07 0-2.86zM5.41 20L4 18.59l7.72-7.72 1.47 1.35L5.41 20z\"/>\n",
              "  </svg>\n",
              "      </button>\n",
              "      \n",
              "  <style>\n",
              "    .colab-df-container {\n",
              "      display:flex;\n",
              "      flex-wrap:wrap;\n",
              "      gap: 12px;\n",
              "    }\n",
              "\n",
              "    .colab-df-convert {\n",
              "      background-color: #E8F0FE;\n",
              "      border: none;\n",
              "      border-radius: 50%;\n",
              "      cursor: pointer;\n",
              "      display: none;\n",
              "      fill: #1967D2;\n",
              "      height: 32px;\n",
              "      padding: 0 0 0 0;\n",
              "      width: 32px;\n",
              "    }\n",
              "\n",
              "    .colab-df-convert:hover {\n",
              "      background-color: #E2EBFA;\n",
              "      box-shadow: 0px 1px 2px rgba(60, 64, 67, 0.3), 0px 1px 3px 1px rgba(60, 64, 67, 0.15);\n",
              "      fill: #174EA6;\n",
              "    }\n",
              "\n",
              "    [theme=dark] .colab-df-convert {\n",
              "      background-color: #3B4455;\n",
              "      fill: #D2E3FC;\n",
              "    }\n",
              "\n",
              "    [theme=dark] .colab-df-convert:hover {\n",
              "      background-color: #434B5C;\n",
              "      box-shadow: 0px 1px 3px 1px rgba(0, 0, 0, 0.15);\n",
              "      filter: drop-shadow(0px 1px 2px rgba(0, 0, 0, 0.3));\n",
              "      fill: #FFFFFF;\n",
              "    }\n",
              "  </style>\n",
              "\n",
              "      <script>\n",
              "        const buttonEl =\n",
              "          document.querySelector('#df-eb14c660-a12f-4eeb-87b2-48a127494a4a button.colab-df-convert');\n",
              "        buttonEl.style.display =\n",
              "          google.colab.kernel.accessAllowed ? 'block' : 'none';\n",
              "\n",
              "        async function convertToInteractive(key) {\n",
              "          const element = document.querySelector('#df-eb14c660-a12f-4eeb-87b2-48a127494a4a');\n",
              "          const dataTable =\n",
              "            await google.colab.kernel.invokeFunction('convertToInteractive',\n",
              "                                                     [key], {});\n",
              "          if (!dataTable) return;\n",
              "\n",
              "          const docLinkHtml = 'Like what you see? Visit the ' +\n",
              "            '<a target=\"_blank\" href=https://colab.research.google.com/notebooks/data_table.ipynb>data table notebook</a>'\n",
              "            + ' to learn more about interactive tables.';\n",
              "          element.innerHTML = '';\n",
              "          dataTable['output_type'] = 'display_data';\n",
              "          await google.colab.output.renderOutput(dataTable, element);\n",
              "          const docLink = document.createElement('div');\n",
              "          docLink.innerHTML = docLinkHtml;\n",
              "          element.appendChild(docLink);\n",
              "        }\n",
              "      </script>\n",
              "    </div>\n",
              "  </div>\n",
              "  "
            ],
            "text/plain": [
              "   index list_of_neighbourhoods  number_of_places\n",
              "0     12           Williamsburg              3920\n",
              "1      6     Bedford-Stuyvesant              3714\n",
              "2      2                 Harlem              2658\n",
              "3     21               Bushwick              2465\n",
              "4      8        Upper West Side              1971\n",
              "5      7         Hell's Kitchen              1958\n",
              "6     19           East Village              1853\n",
              "7     28        Upper East Side              1798\n",
              "8     15          Crown Heights              1564\n",
              "9      1                Midtown              1545"
            ]
          },
          "metadata": {}
        }
      ]
    },
    {
      "cell_type": "code",
      "source": [
        "# Counting number of Private Rooms in each Neighbourhood.\n",
        "privateRooms_in_areas = []\n",
        "for area in neighbourhood_list:\n",
        "  prs = airbnb_df[(airbnb_df['neighbourhood'] == area) & (airbnb_df['room_type'] == room_type_list[0])]['id'].count()\n",
        "  privateRooms_in_areas.append([area,prs])\n",
        "privateRooms_areasdf = pd.DataFrame(privateRooms_in_areas, columns=['list_of_neighbourhoods','number_of_privateRooms'], index=neighbourhood_list)\n",
        "sorted_prdf = privateRooms_areasdf.sort_values('number_of_privateRooms', ascending = False)\n",
        "plt.rcParams['figure.figsize'] = (7, 6)\n",
        "plt.style.use('classic')\n",
        "bar_ehs = plt.scatter(sorted_prdf['number_of_privateRooms'].head(20), sorted_prdf['list_of_neighbourhoods'].head(20), c = '#800080')\n",
        "plt.title('Top 20 most preferred neighbourhoods\\nfor Private Rooms.', fontsize = 18)\n",
        "plt.xlabel('Number of Private Rooms', fontsize = 14)\n",
        "plt.ylabel('List of Neighbourhoods', fontsize = 14)\n",
        "plt.grid()"
      ],
      "metadata": {
        "colab": {
          "base_uri": "https://localhost:8080/",
          "height": 497
        },
        "id": "X6OuIt9PrqfD",
        "outputId": "98f9d3c5-44f6-4935-e9c9-ecf497f257d1"
      },
      "execution_count": 243,
      "outputs": [
        {
          "output_type": "display_data",
          "data": {
            "image/png": "[encoded data removed]",
            "text/plain": [
              "<Figure size 640x480 with 1 Axes>"
            ]
          },
          "metadata": {}
        }
      ]
    },
    {
      "cell_type": "markdown",
      "source": [
        "### -> The above Graph depicts the top 10 Neighbourhoods having more number Private rooms.\n",
        "\n",
        "## Probable Reasons are :"
      ],
      "metadata": {
        "id": "NxlejCYzLmyN"
      }
    },
    {
      "cell_type": "code",
      "source": [
        "# Counting number of Homes or Apartments in each Neighbourhood.\n",
        "entireHomes_in_areas = []\n",
        "for area in neighbourhood_list:\n",
        "  ehs = airbnb_df[(airbnb_df['neighbourhood'] == area) & (airbnb_df['room_type'] == room_type_list[1])]['id'].count()\n",
        "  entireHomes_in_areas.append([area,ehs])\n",
        "entireHomes_areasdf = pd.DataFrame(entireHomes_in_areas, columns=['list_of_neighbourhoods','number_of_entireHomes'], index=neighbourhood_list)\n",
        "sorted_ehdf = entireHomes_areasdf.sort_values('number_of_entireHomes', ascending = False)\n",
        "plt.rcParams['figure.figsize'] = (7, 6)\n",
        "bar_ehs = plt.scatter(sorted_ehdf['number_of_entireHomes'].head(20), sorted_ehdf['list_of_neighbourhoods'].head(20), c = '#008080')\n",
        "plt.title('Top 20 most preferred neighbourhoods\\nfor Entire Homes or Apartments.', fontsize = 18)\n",
        "plt.xlabel('Number of Entire Homes or Apartments', fontsize = 14)\n",
        "plt.ylabel('List of Neighbourhoods', fontsize = 14)\n",
        "plt.grid()"
      ],
      "metadata": {
        "colab": {
          "base_uri": "https://localhost:8080/",
          "height": 497
        },
        "id": "fCfkK8grwT3D",
        "outputId": "491e5b20-4688-4b67-ec5f-be5c8724ae38"
      },
      "execution_count": 244,
      "outputs": [
        {
          "output_type": "display_data",
          "data": {
            "image/png": "[encoded data removed]",
            "text/plain": [
              "<Figure size 560x480 with 1 Axes>"
            ]
          },
          "metadata": {}
        }
      ]
    },
    {
      "cell_type": "markdown",
      "source": [
        "### -> The above Graph depicts the top 10 Neighbourhoods having more number Homes or Apartments.\n",
        "## Probable Reasons are :"
      ],
      "metadata": {
        "id": "fYeHLJcEMKIw"
      }
    },
    {
      "cell_type": "markdown",
      "source": [
        "## Secondary Objective 5 : Number of Existing Places per each Year in Different Neighbourhood Groups of NYC."
      ],
      "metadata": {
        "id": "qFQ-qQMcKVwW"
      }
    },
    {
      "cell_type": "code",
      "source": [
        "correlation_val = round(reviewed_df['number_of_reviews'].corr(reviewed_df['reviews_per_month']),2)\n",
        "print(f\"Correlation between columns 'number_of_reviews' and 'reviews_per_month' is {correlation_val}\")"
      ],
      "metadata": {
        "colab": {
          "base_uri": "https://localhost:8080/"
        },
        "id": "zr4JwBjf_2eX",
        "outputId": "29b58771-a3d9-44f9-feea-4fbaacef07a2"
      },
      "execution_count": 245,
      "outputs": [
        {
          "output_type": "stream",
          "name": "stdout",
          "text": [
            "Correlation between columns 'number_of_reviews' and 'reviews_per_month' is 0.55\n"
          ]
        }
      ]
    },
    {
      "cell_type": "markdown",
      "source": [
        "# Note :\n",
        "### Since the correlation between columns 'number_of_reviews' and 'reviews_per month' is good, we're assuming that the data in  column 'reviews_per_month' as 'number of reviews' a property received over it's lifetime divided by total number of months that property is existing from. \n",
        "### With this assumption we're creating two columns : 'duration' and 'possible_year_of_start'"
      ],
      "metadata": {
        "id": "kb4aiH57Av42"
      }
    },
    {
      "cell_type": "code",
      "source": [
        "# Creating a DataFrame which contains the Probable Duration and Possible Year of Start\n",
        "# in addition to all the data exists in Reviewed DF  \n",
        "temp_disdf = reviewed_df.copy()\n",
        "temp_disdf['duration'] = round((temp_disdf['number_of_reviews']/temp_disdf['reviews_per_month']) / 12)\n",
        "temp_disdf['possible_year_of_start'] = temp_disdf['last_review'].dt.year - temp_disdf['duration']\n",
        "temp_disdf['possible_year_of_start'] = pd.to_datetime(temp_disdf['possible_year_of_start'], format = '%Y').dt.year"
      ],
      "metadata": {
        "id": "06Vk4ir8nPn_"
      },
      "execution_count": 246,
      "outputs": []
    },
    {
      "cell_type": "code",
      "source": [
        "# Plotting the Number of Places per Year\n",
        "list_of_placecount = []\n",
        "for s_year in list(range(2008,2020)):\n",
        "  place_count = temp_disdf[(temp_disdf['last_review'].dt.year >= s_year) & (temp_disdf['possible_year_of_start'] <= s_year)]['id'].count()\n",
        "  list_of_placecount.append([s_year, place_count])\n",
        "places_by_yeardf = pd.DataFrame(list_of_placecount, columns = ['Year', 'Number of Active Places'])"
      ],
      "metadata": {
        "id": "2VMYjkghomH-"
      },
      "execution_count": 247,
      "outputs": []
    },
    {
      "cell_type": "markdown",
      "source": [
        "### Next, we're counting all the properties with \n",
        "###(i) **'last review year' greater than the desired year** \n",
        "###(ii) **'possible year of start' lesser than the desired year**\n",
        "### as Properties Existing in that particular year\n",
        "###('desired year' is from 2008 to 2019)\n",
        "\n"
      ],
      "metadata": {
        "id": "wIB_4d71H9qt"
      }
    },
    {
      "cell_type": "code",
      "source": [
        "# Finding the Number of Places for each Nieghbourhood group Year by Year\n",
        "dct3 = {}\n",
        "for group in neighbourhood_group_list:\n",
        "  lst3 = []\n",
        "  for year in list(range(2008, 2020)):\n",
        "    count = temp_disdf[(temp_disdf['neighbourhood_group'] == group) \n",
        "                  & (temp_disdf['last_review'].dt.year >= year)        \n",
        "                  & (temp_disdf['possible_year_of_start'] <= year)]['id'].count()  \n",
        "    lst3.append(count)\n",
        "  dct3.update({group : lst3})\n",
        "year_disdf = pd.DataFrame(dct3, index=list(range(2008,2020)))"
      ],
      "metadata": {
        "id": "Swa6U1pYGMMY"
      },
      "execution_count": 248,
      "outputs": []
    },
    {
      "cell_type": "code",
      "source": [
        "# Plotting the Distribution.\n",
        "plt.style.use('default')\n",
        "plt.rcParams['figure.figsize'] = (8,5)\n",
        "year_disdf['Brooklyn'].plot(marker = 'o', markerfacecolor = 'black', markersize = 5)\n",
        "year_disdf['Manhattan'].plot(marker = 'o', markerfacecolor = 'black', markersize = 5)\n",
        "year_disdf['Queens'].plot(marker = 'o', markerfacecolor = 'black', markersize = 5)\n",
        "year_disdf['Staten Island'].plot(marker = 'o', markerfacecolor = 'black', markersize = 5)\n",
        "year_disdf['Bronx'].plot(marker = 'o', markerfacecolor = 'black', markersize = 5)\n",
        "plt.xlabel('Years', fontsize = 14)\n",
        "plt.ylabel('Place Count', fontsize = 14)\n",
        "plt.title('Number of Existing Places per year in each Neighbourhood Group', fontsize = 16)\n",
        "plt.locator_params(axis=\"x\", nbins=22)\n",
        "plt.xticks(rotation = 45, fontsize = 10)\n",
        "plt.grid()\n",
        "plt.legend(loc = 'upper left')"
      ],
      "metadata": {
        "colab": {
          "base_uri": "https://localhost:8080/",
          "height": 532
        },
        "id": "AzQblMZxHXTi",
        "outputId": "c464d500-0c2d-4f86-c3c8-26d9c289bbc4"
      },
      "execution_count": 249,
      "outputs": [
        {
          "output_type": "execute_result",
          "data": {
            "text/plain": [
              "<matplotlib.legend.Legend at 0x7f9ea4b1cf90>"
            ]
          },
          "metadata": {},
          "execution_count": 249
        },
        {
          "output_type": "display_data",
          "data": {
            "image/png": "[encoded data removed]",
            "text/plain": [
              "<Figure size 800x500 with 1 Axes>"
            ]
          },
          "metadata": {}
        }
      ]
    },
    {
      "cell_type": "markdown",
      "source": [
        "## Observations\n",
        "### -> Above Graph depicts the Frequency of Distribution of Open Places for different Neighbourhood Groups over the Years\n",
        "\n",
        "### -> We can clearly see that Brooklyn and Manhatten have got simoultaneous increase in demand for accommodations as the years have passed."
      ],
      "metadata": {
        "id": "gQyMg26XWUsb"
      }
    },
    {
      "cell_type": "markdown",
      "source": [
        "# Custom Query : Hi, Myself Riyan Mascarenhas from India, l've been appointed as an Assistant Professor in Columbia University in New York City.\n",
        "\n",
        "# Since, I need time to settle down in the neighborhood, I'm planning to go for renting a home/apartment for an year or two.\n",
        "\n",
        "# Can you please suggest me some place names in or near the neighborhood? "
      ],
      "metadata": {
        "id": "gmaSuDdzIuWY"
      }
    },
    {
      "cell_type": "markdown",
      "source": [
        "#Solution\n",
        "### -> We can answer this quary with the **Geographical location** of Required Landmark and assuming the maximum walkable distance is less than **2 Kilometers** from the Required Landmark.\n",
        "\n",
        "### -> We need to consider Price, Type of the Place and Availability while suggesting a list of Preferable Places.\n",
        "\n",
        "### -> Here we're considering all Properties with,\n",
        "### (i) Price lesser than the mean of all prices.\n",
        "### (ii) Availability greater than 120 days a year.\n",
        "### (iii) Room Type is Entire Home/Apartments"
      ],
      "metadata": {
        "id": "kuEaGwC5MdjU"
      }
    },
    {
      "cell_type": "code",
      "source": [
        "# Importing Geocoder library.\n",
        "import geopy\n",
        "from geopy.geocoders import Nominatim\n",
        "from geopy.distance import geodesic"
      ],
      "metadata": {
        "id": "AS8WOFqBJw9Z"
      },
      "execution_count": 250,
      "outputs": []
    },
    {
      "cell_type": "code",
      "source": [
        "# Finding the Geolocation of Required Landmark.\n",
        "loc = 'Columbia University'\n",
        "geolocator = Nominatim(user_agent=\"my_request\")\n",
        "location = geolocator.geocode(loc)\n",
        "lat0 = location.latitude\n",
        "long0 = location.longitude\n",
        "print(f' Geolocation of Required Landmark is {lat0,long0}')"
      ],
      "metadata": {
        "id": "HYEdW2d3J9uA",
        "colab": {
          "base_uri": "https://localhost:8080/"
        },
        "outputId": "ff7b837d-8a09-4777-beed-a7455f9d3664"
      },
      "execution_count": 251,
      "outputs": [
        {
          "output_type": "stream",
          "name": "stdout",
          "text": [
            " Geolocation of Required Landmark is (40.8176657, -73.95851439291599)\n"
          ]
        }
      ]
    },
    {
      "cell_type": "code",
      "source": [
        "# Using 'geodesic from geopy' for finding all those places which are at a distance of 'less than 2 kilometers' from Required Landmark\n",
        "# also counting them.\n",
        "required_df = pd.DataFrame()\n",
        "for elem in range(airbnb_df['id'].size):\n",
        "  if geodesic((airbnb_df.iloc[elem, 6], airbnb_df.iloc[elem, 7]),(lat0,long0)).km < 2:\n",
        "    required_df = required_df.append(airbnb_df[(airbnb_df['latitude'] == airbnb_df.iloc[elem, 6]) \n",
        "                                                      &(airbnb_df['longitude'] == airbnb_df.iloc[elem, 7])])\n",
        "required_df.reset_index()\n",
        "required_size = required_df['id'].size\n",
        "print(f'There are totally {required_size} Places near {loc}')"
      ],
      "metadata": {
        "id": "ZqbmgyrMJ6DO",
        "colab": {
          "base_uri": "https://localhost:8080/"
        },
        "outputId": "1a977064-ea8c-411f-8229-f4a8ea31ca34"
      },
      "execution_count": 252,
      "outputs": [
        {
          "output_type": "stream",
          "name": "stdout",
          "text": [
            "There are totally 3242 Places near Columbia University\n"
          ]
        }
      ]
    },
    {
      "cell_type": "code",
      "source": [
        "# Finding the list of Preferable Places and sorting them according to Price and Availability.\n",
        "place_listdf = pd.DataFrame(required_df[((required_df['price'] > 10) & (required_df['price'] <= required_df['price'].mean()))\n",
        "                                      & (required_df['availability_365'] > 120) \n",
        "                                      & (required_df['room_type'] == room_type_list[1])])\n",
        "sorted_place_listdf = place_listdf.sort_values(['price','availability_365'], ascending =[True,False]).reset_index()\n",
        "# sorted_place_listdf.head(sorted_place_listdf['id'].size)"
      ],
      "metadata": {
        "id": "m3hoFURdT11u"
      },
      "execution_count": 253,
      "outputs": []
    },
    {
      "cell_type": "code",
      "source": [
        "# Printing the name of top 20 most Preferable Places with, Price, Availability and corresponding Distances from Required Landmark.\n",
        "print('Top 20 most Preferable PLaces are : \\n\\n')\n",
        "some_df = pd.DataFrame(columns = ['name', 'price', 'distance', 'availability', 'latitude', 'longitude'])\n",
        "for elem in range(20):\n",
        "  lat1 = sorted_place_listdf.iloc[elem,7]\n",
        "  long1 = sorted_place_listdf.iloc[elem,8]\n",
        "  name = sorted_place_listdf.iloc[elem,2]\n",
        "  price = sorted_place_listdf.iloc[elem,10]\n",
        "  distance = round(geodesic((sorted_place_listdf.iloc[elem, 7], sorted_place_listdf.iloc[elem, 8]),(lat0,long0)).km, 2)\n",
        "  availability = sorted_place_listdf.iloc[elem,16]\n",
        "  # print(f'{elem+1} Name : {name}, Price : {price} $, Availability : {availability}, Distance : {distance} km  \\n')\n",
        "  some_df = some_df.append({'name' : name, 'price' : price, 'distance' : distance, 'availability' : availability, 'latitude' : lat1, 'longitude' : long1}, ignore_index = True)\n",
        "display(some_df)"
      ],
      "metadata": {
        "id": "ZDk2kWyGJip4",
        "colab": {
          "base_uri": "https://localhost:8080/",
          "height": 728
        },
        "outputId": "cf247711-da57-4e58-e2d2-7b5d4db317da"
      },
      "execution_count": 254,
      "outputs": [
        {
          "output_type": "stream",
          "name": "stdout",
          "text": [
            "Top 20 most Preferable PLaces are : \n",
            "\n",
            "\n"
          ]
        },
        {
          "output_type": "display_data",
          "data": {
            "text/html": [
              "\n",
              "  <div id=\"df-6b32a87a-761a-4a55-9970-392a1659165f\">\n",
              "    <div class=\"colab-df-container\">\n",
              "      <div>\n",
              "<style scoped>\n",
              "    .dataframe tbody tr th:only-of-type {\n",
              "        vertical-align: middle;\n",
              "    }\n",
              "\n",
              "    .dataframe tbody tr th {\n",
              "        vertical-align: top;\n",
              "    }\n",
              "\n",
              "    .dataframe thead th {\n",
              "        text-align: right;\n",
              "    }\n",
              "</style>\n",
              "<table border=\"1\" class=\"dataframe\">\n",
              "  <thead>\n",
              "    <tr style=\"text-align: right;\">\n",
              "      <th></th>\n",
              "      <th>name</th>\n",
              "      <th>price</th>\n",
              "      <th>distance</th>\n",
              "      <th>availability</th>\n",
              "      <th>latitude</th>\n",
              "      <th>longitude</th>\n",
              "    </tr>\n",
              "  </thead>\n",
              "  <tbody>\n",
              "    <tr>\n",
              "      <th>0</th>\n",
              "      <td>Cozy+Sunny 2 bedroom apt. close to Central Park</td>\n",
              "      <td>49</td>\n",
              "      <td>1.25</td>\n",
              "      <td>279</td>\n",
              "      <td>40.80719</td>\n",
              "      <td>-73.95303</td>\n",
              "    </tr>\n",
              "    <tr>\n",
              "      <th>1</th>\n",
              "      <td>Lovely 1B1B Apt in UWS Manhattan</td>\n",
              "      <td>60</td>\n",
              "      <td>0.51</td>\n",
              "      <td>157</td>\n",
              "      <td>40.81847</td>\n",
              "      <td>-73.95259</td>\n",
              "    </tr>\n",
              "    <tr>\n",
              "      <th>2</th>\n",
              "      <td>Wonderful Large 1 bedroom</td>\n",
              "      <td>75</td>\n",
              "      <td>0.50</td>\n",
              "      <td>362</td>\n",
              "      <td>40.82135</td>\n",
              "      <td>-73.95521</td>\n",
              "    </tr>\n",
              "    <tr>\n",
              "      <th>3</th>\n",
              "      <td>Cozy Studio NYC getaway</td>\n",
              "      <td>75</td>\n",
              "      <td>1.83</td>\n",
              "      <td>361</td>\n",
              "      <td>40.81662</td>\n",
              "      <td>-73.93687</td>\n",
              "    </tr>\n",
              "    <tr>\n",
              "      <th>4</th>\n",
              "      <td>Geek-Chic Full Apt in Sugar Hill, Manhattan!</td>\n",
              "      <td>77</td>\n",
              "      <td>1.86</td>\n",
              "      <td>188</td>\n",
              "      <td>40.83088</td>\n",
              "      <td>-73.94500</td>\n",
              "    </tr>\n",
              "    <tr>\n",
              "      <th>5</th>\n",
              "      <td>LUX Studio 10 mins to Central Park!!</td>\n",
              "      <td>78</td>\n",
              "      <td>1.73</td>\n",
              "      <td>208</td>\n",
              "      <td>40.81658</td>\n",
              "      <td>-73.93800</td>\n",
              "    </tr>\n",
              "    <tr>\n",
              "      <th>6</th>\n",
              "      <td>Sunny one bedroom for July-Aug</td>\n",
              "      <td>80</td>\n",
              "      <td>1.19</td>\n",
              "      <td>311</td>\n",
              "      <td>40.82693</td>\n",
              "      <td>-73.95142</td>\n",
              "    </tr>\n",
              "    <tr>\n",
              "      <th>7</th>\n",
              "      <td>Affordable, Private, Simple &amp; Clean NYC Flat!</td>\n",
              "      <td>80</td>\n",
              "      <td>1.70</td>\n",
              "      <td>258</td>\n",
              "      <td>40.82029</td>\n",
              "      <td>-73.93861</td>\n",
              "    </tr>\n",
              "    <tr>\n",
              "      <th>8</th>\n",
              "      <td>Full-Service Studio Apt in Brownstone/Townhouse</td>\n",
              "      <td>80</td>\n",
              "      <td>1.07</td>\n",
              "      <td>193</td>\n",
              "      <td>40.81726</td>\n",
              "      <td>-73.94583</td>\n",
              "    </tr>\n",
              "    <tr>\n",
              "      <th>9</th>\n",
              "      <td>Charming Harlem Apartment</td>\n",
              "      <td>80</td>\n",
              "      <td>1.88</td>\n",
              "      <td>189</td>\n",
              "      <td>40.82964</td>\n",
              "      <td>-73.94271</td>\n",
              "    </tr>\n",
              "    <tr>\n",
              "      <th>10</th>\n",
              "      <td>Beautiful Large 1 BED in Upper Manhattan</td>\n",
              "      <td>90</td>\n",
              "      <td>0.80</td>\n",
              "      <td>269</td>\n",
              "      <td>40.82339</td>\n",
              "      <td>-73.95271</td>\n",
              "    </tr>\n",
              "    <tr>\n",
              "      <th>11</th>\n",
              "      <td>Convenient  Harlem studio</td>\n",
              "      <td>90</td>\n",
              "      <td>1.77</td>\n",
              "      <td>249</td>\n",
              "      <td>40.81613</td>\n",
              "      <td>-73.93765</td>\n",
              "    </tr>\n",
              "    <tr>\n",
              "      <th>12</th>\n",
              "      <td>2 Bedroom Penthouse with Good Vibes</td>\n",
              "      <td>90</td>\n",
              "      <td>1.74</td>\n",
              "      <td>209</td>\n",
              "      <td>40.82621</td>\n",
              "      <td>-73.94125</td>\n",
              "    </tr>\n",
              "    <tr>\n",
              "      <th>13</th>\n",
              "      <td>Cozy and quiet with secret garden</td>\n",
              "      <td>90</td>\n",
              "      <td>1.53</td>\n",
              "      <td>150</td>\n",
              "      <td>40.82823</td>\n",
              "      <td>-73.94691</td>\n",
              "    </tr>\n",
              "    <tr>\n",
              "      <th>14</th>\n",
              "      <td>Studio Sanctuary in Landmark Brownstone</td>\n",
              "      <td>91</td>\n",
              "      <td>1.62</td>\n",
              "      <td>216</td>\n",
              "      <td>40.80480</td>\n",
              "      <td>-73.94951</td>\n",
              "    </tr>\n",
              "    <tr>\n",
              "      <th>15</th>\n",
              "      <td>Cozy Private Apartment in Historic Harlem</td>\n",
              "      <td>92</td>\n",
              "      <td>1.69</td>\n",
              "      <td>342</td>\n",
              "      <td>40.82369</td>\n",
              "      <td>-73.94018</td>\n",
              "    </tr>\n",
              "    <tr>\n",
              "      <th>16</th>\n",
              "      <td>Calming &amp; Bright 1 BR Apt in Upper West Side</td>\n",
              "      <td>93</td>\n",
              "      <td>1.18</td>\n",
              "      <td>325</td>\n",
              "      <td>40.81982</td>\n",
              "      <td>-73.94481</td>\n",
              "    </tr>\n",
              "    <tr>\n",
              "      <th>17</th>\n",
              "      <td>Harlem cosy renovated unit for two</td>\n",
              "      <td>94</td>\n",
              "      <td>1.14</td>\n",
              "      <td>316</td>\n",
              "      <td>40.81618</td>\n",
              "      <td>-73.94517</td>\n",
              "    </tr>\n",
              "    <tr>\n",
              "      <th>18</th>\n",
              "      <td>Modern Manhattan Living Suite 2A</td>\n",
              "      <td>95</td>\n",
              "      <td>1.79</td>\n",
              "      <td>245</td>\n",
              "      <td>40.82967</td>\n",
              "      <td>-73.94428</td>\n",
              "    </tr>\n",
              "    <tr>\n",
              "      <th>19</th>\n",
              "      <td>Spacious retreat</td>\n",
              "      <td>95</td>\n",
              "      <td>1.72</td>\n",
              "      <td>140</td>\n",
              "      <td>40.82232</td>\n",
              "      <td>-73.93908</td>\n",
              "    </tr>\n",
              "  </tbody>\n",
              "</table>\n",
              "</div>\n",
              "      <button class=\"colab-df-convert\" onclick=\"convertToInteractive('df-6b32a87a-761a-4a55-9970-392a1659165f')\"\n",
              "              title=\"Convert this dataframe to an interactive table.\"\n",
              "              style=\"display:none;\">\n",
              "        \n",
              "  <svg xmlns=\"http://www.w3.org/2000/svg\" height=\"24px\"viewBox=\"0 0 24 24\"\n",
              "       width=\"24px\">\n",
              "    <path d=\"M0 0h24v24H0V0z\" fill=\"none\"/>\n",
              "    <path d=\"M18.56 5.44l.94 2.06.94-2.06 2.06-.94-2.06-.94-.94-2.06-.94 2.06-2.06.94zm-11 1L8.5 8.5l.94-2.06 2.06-.94-2.06-.94L8.5 2.5l-.94 2.06-2.06.94zm10 10l.94 2.06.94-2.06 2.06-.94-2.06-.94-.94-2.06-.94 2.06-2.06.94z\"/><path d=\"M17.41 7.96l-1.37-1.37c-.4-.4-.92-.59-1.43-.59-.52 0-1.04.2-1.43.59L10.3 9.45l-7.72 7.72c-.78.78-.78 2.05 0 2.83L4 21.41c.39.39.9.59 1.41.59.51 0 1.02-.2 1.41-.59l7.78-7.78 2.81-2.81c.8-.78.8-2.07 0-2.86zM5.41 20L4 18.59l7.72-7.72 1.47 1.35L5.41 20z\"/>\n",
              "  </svg>\n",
              "      </button>\n",
              "      \n",
              "  <style>\n",
              "    .colab-df-container {\n",
              "      display:flex;\n",
              "      flex-wrap:wrap;\n",
              "      gap: 12px;\n",
              "    }\n",
              "\n",
              "    .colab-df-convert {\n",
              "      background-color: #E8F0FE;\n",
              "      border: none;\n",
              "      border-radius: 50%;\n",
              "      cursor: pointer;\n",
              "      display: none;\n",
              "      fill: #1967D2;\n",
              "      height: 32px;\n",
              "      padding: 0 0 0 0;\n",
              "      width: 32px;\n",
              "    }\n",
              "\n",
              "    .colab-df-convert:hover {\n",
              "      background-color: #E2EBFA;\n",
              "      box-shadow: 0px 1px 2px rgba(60, 64, 67, 0.3), 0px 1px 3px 1px rgba(60, 64, 67, 0.15);\n",
              "      fill: #174EA6;\n",
              "    }\n",
              "\n",
              "    [theme=dark] .colab-df-convert {\n",
              "      background-color: #3B4455;\n",
              "      fill: #D2E3FC;\n",
              "    }\n",
              "\n",
              "    [theme=dark] .colab-df-convert:hover {\n",
              "      background-color: #434B5C;\n",
              "      box-shadow: 0px 1px 3px 1px rgba(0, 0, 0, 0.15);\n",
              "      filter: drop-shadow(0px 1px 2px rgba(0, 0, 0, 0.3));\n",
              "      fill: #FFFFFF;\n",
              "    }\n",
              "  </style>\n",
              "\n",
              "      <script>\n",
              "        const buttonEl =\n",
              "          document.querySelector('#df-6b32a87a-761a-4a55-9970-392a1659165f button.colab-df-convert');\n",
              "        buttonEl.style.display =\n",
              "          google.colab.kernel.accessAllowed ? 'block' : 'none';\n",
              "\n",
              "        async function convertToInteractive(key) {\n",
              "          const element = document.querySelector('#df-6b32a87a-761a-4a55-9970-392a1659165f');\n",
              "          const dataTable =\n",
              "            await google.colab.kernel.invokeFunction('convertToInteractive',\n",
              "                                                     [key], {});\n",
              "          if (!dataTable) return;\n",
              "\n",
              "          const docLinkHtml = 'Like what you see? Visit the ' +\n",
              "            '<a target=\"_blank\" href=https://colab.research.google.com/notebooks/data_table.ipynb>data table notebook</a>'\n",
              "            + ' to learn more about interactive tables.';\n",
              "          element.innerHTML = '';\n",
              "          dataTable['output_type'] = 'display_data';\n",
              "          await google.colab.output.renderOutput(dataTable, element);\n",
              "          const docLink = document.createElement('div');\n",
              "          docLink.innerHTML = docLinkHtml;\n",
              "          element.appendChild(docLink);\n",
              "        }\n",
              "      </script>\n",
              "    </div>\n",
              "  </div>\n",
              "  "
            ],
            "text/plain": [
              "                                               name price  ...  latitude longitude\n",
              "0   Cozy+Sunny 2 bedroom apt. close to Central Park    49  ...  40.80719 -73.95303\n",
              "1                  Lovely 1B1B Apt in UWS Manhattan    60  ...  40.81847 -73.95259\n",
              "2                         Wonderful Large 1 bedroom    75  ...  40.82135 -73.95521\n",
              "3                           Cozy Studio NYC getaway    75  ...  40.81662 -73.93687\n",
              "4      Geek-Chic Full Apt in Sugar Hill, Manhattan!    77  ...  40.83088 -73.94500\n",
              "5              LUX Studio 10 mins to Central Park!!    78  ...  40.81658 -73.93800\n",
              "6                    Sunny one bedroom for July-Aug    80  ...  40.82693 -73.95142\n",
              "7     Affordable, Private, Simple & Clean NYC Flat!    80  ...  40.82029 -73.93861\n",
              "8   Full-Service Studio Apt in Brownstone/Townhouse    80  ...  40.81726 -73.94583\n",
              "9                         Charming Harlem Apartment    80  ...  40.82964 -73.94271\n",
              "10         Beautiful Large 1 BED in Upper Manhattan    90  ...  40.82339 -73.95271\n",
              "11                        Convenient  Harlem studio    90  ...  40.81613 -73.93765\n",
              "12              2 Bedroom Penthouse with Good Vibes    90  ...  40.82621 -73.94125\n",
              "13                Cozy and quiet with secret garden    90  ...  40.82823 -73.94691\n",
              "14          Studio Sanctuary in Landmark Brownstone    91  ...  40.80480 -73.94951\n",
              "15        Cozy Private Apartment in Historic Harlem    92  ...  40.82369 -73.94018\n",
              "16     Calming & Bright 1 BR Apt in Upper West Side    93  ...  40.81982 -73.94481\n",
              "17               Harlem cosy renovated unit for two    94  ...  40.81618 -73.94517\n",
              "18                 Modern Manhattan Living Suite 2A    95  ...  40.82967 -73.94428\n",
              "19                                 Spacious retreat    95  ...  40.82232 -73.93908\n",
              "\n",
              "[20 rows x 6 columns]"
            ]
          },
          "metadata": {}
        }
      ]
    },
    {
      "cell_type": "code",
      "source": [
        "# Map of the most preferable places.\n",
        "dict_latlong = {'latitude':lat0,'longitude' : long0}\n",
        "landmark_df = pd.DataFrame(dict_latlong,columns = ['latitude', 'longitude'], index = [0])\n",
        "import plotly.express as px\n",
        "px.scatter_mapbox(some_df, lat='latitude',lon='longitude', size = 'distance', color_continuous_scale=px.colors.cyclical.IceFire, size_max=15, zoom=13,\n",
        "                       hover_data=['name','price','distance','availability'],mapbox_style=\"carto-positron\")"
      ],
      "metadata": {
        "colab": {
          "base_uri": "https://localhost:8080/",
          "height": 542
        },
        "id": "BPFTX03qLd8F",
        "outputId": "64d988a9-1616-4d8e-c3c8-ee81c4128aa7"
      },
      "execution_count": 255,
      "outputs": [
        {
          "output_type": "display_data",
          "data": {
            "text/html": [
              "<html>\n",
              "<head><meta charset=\"utf-8\" /></head>\n",
              "<body>\n",
              "    <div>            <script src=\"https://cdnjs.cloudflare.com/ajax/libs/mathjax/2.7.5/MathJax.js?config=TeX-AMS-MML_SVG\"></script><script type=\"text/javascript\">if (window.MathJax) {MathJax.Hub.Config({SVG: {font: \"STIX-Web\"}});}</script>                <script type=\"text/javascript\">window.PlotlyConfig = {MathJaxConfig: 'local'};</script>\n",
              "        <script src=\"https://cdn.plot.ly/plotly-2.8.3.min.js\"></script>                <div id=\"4ca3a918-1e9e-4b97-9a9f-cc0ca2e7e4f6\" class=\"plotly-graph-div\" style=\"height:525px; width:100%;\"></div>            <script type=\"text/javascript\">                                    window.PLOTLYENV=window.PLOTLYENV || {};                                    if (document.getElementById(\"4ca3a918-1e9e-4b97-9a9f-cc0ca2e7e4f6\")) {                    Plotly.newPlot(                        \"4ca3a918-1e9e-4b97-9a9f-cc0ca2e7e4f6\",                        [{\"customdata\":[[\"Cozy+Sunny 2 bedroom apt. close to Central Park\",49,1.25,279],[\"Lovely 1B1B Apt in UWS Manhattan\",60,0.51,157],[\"Wonderful Large 1 bedroom\",75,0.5,362],[\"Cozy Studio NYC getaway\",75,1.83,361],[\"Geek-Chic Full Apt in Sugar Hill, Manhattan!\",77,1.86,188],[\"LUX Studio 10 mins to Central Park!!\",78,1.73,208],[\"Sunny one bedroom for July-Aug\",80,1.19,311],[\"Affordable, Private, Simple & Clean NYC Flat!\",80,1.7,258],[\"Full-Service Studio Apt in Brownstone/Townhouse\",80,1.07,193],[\"Charming Harlem Apartment\",80,1.88,189],[\"Beautiful Large 1 BED in Upper Manhattan\",90,0.8,269],[\"Convenient  Harlem studio\",90,1.77,249],[\"2 Bedroom Penthouse with Good Vibes\",90,1.74,209],[\"Cozy and quiet with secret garden\",90,1.53,150],[\"Studio Sanctuary in Landmark Brownstone\",91,1.62,216],[\"Cozy Private Apartment in Historic Harlem\",92,1.69,342],[\"Calming & Bright 1 BR Apt in Upper West Side\",93,1.18,325],[\"Harlem cosy renovated unit for two\",94,1.14,316],[\"Modern Manhattan Living Suite 2A\",95,1.79,245],[\"Spacious retreat\",95,1.72,140]],\"hovertemplate\":\"distance=%{customdata[2]}<br>latitude=%{lat}<br>longitude=%{lon}<br>name=%{customdata[0]}<br>price=%{customdata[1]}<br>availability=%{customdata[3]}<extra></extra>\",\"lat\":[40.80719,40.81847,40.82135,40.81662,40.83088,40.81658,40.82693,40.82029,40.81726,40.82964,40.82339,40.81613,40.82621,40.82823,40.8048,40.82369,40.81982,40.81618,40.82967,40.82232],\"legendgroup\":\"\",\"lon\":[-73.95303,-73.95259,-73.95521,-73.93687,-73.945,-73.938,-73.95142,-73.93861,-73.94583,-73.94271,-73.95271,-73.93765,-73.94125,-73.94691,-73.94951,-73.94018,-73.94481,-73.94517,-73.94428,-73.93908],\"marker\":{\"color\":\"#636efa\",\"size\":[1.25,0.51,0.5,1.83,1.86,1.73,1.19,1.7,1.07,1.88,0.8,1.77,1.74,1.53,1.62,1.69,1.18,1.14,1.79,1.72],\"sizemode\":\"area\",\"sizeref\":0.008355555555555555},\"mode\":\"markers\",\"name\":\"\",\"showlegend\":false,\"subplot\":\"mapbox\",\"type\":\"scattermapbox\"}],                        {\"template\":{\"data\":{\"bar\":[{\"error_x\":{\"color\":\"#2a3f5f\"},\"error_y\":{\"color\":\"#2a3f5f\"},\"marker\":{\"line\":{\"color\":\"#E5ECF6\",\"width\":0.5},\"pattern\":{\"fillmode\":\"overlay\",\"size\":10,\"solidity\":0.2}},\"type\":\"bar\"}],\"barpolar\":[{\"marker\":{\"line\":{\"color\":\"#E5ECF6\",\"width\":0.5},\"pattern\":{\"fillmode\":\"overlay\",\"size\":10,\"solidity\":0.2}},\"type\":\"barpolar\"}],\"carpet\":[{\"aaxis\":{\"endlinecolor\":\"#2a3f5f\",\"gridcolor\":\"white\",\"linecolor\":\"white\",\"minorgridcolor\":\"white\",\"startlinecolor\":\"#2a3f5f\"},\"baxis\":{\"endlinecolor\":\"#2a3f5f\",\"gridcolor\":\"white\",\"linecolor\":\"white\",\"minorgridcolor\":\"white\",\"startlinecolor\":\"#2a3f5f\"},\"type\":\"carpet\"}],\"choropleth\":[{\"colorbar\":{\"outlinewidth\":0,\"ticks\":\"\"},\"type\":\"choropleth\"}],\"contour\":[{\"colorbar\":{\"outlinewidth\":0,\"ticks\":\"\"},\"colorscale\":[[0.0,\"#0d0887\"],[0.1111111111111111,\"#46039f\"],[0.2222222222222222,\"#7201a8\"],[0.3333333333333333,\"#9c179e\"],[0.4444444444444444,\"#bd3786\"],[0.5555555555555556,\"#d8576b\"],[0.6666666666666666,\"#ed7953\"],[0.7777777777777778,\"#fb9f3a\"],[0.8888888888888888,\"#fdca26\"],[1.0,\"#f0f921\"]],\"type\":\"contour\"}],\"contourcarpet\":[{\"colorbar\":{\"outlinewidth\":0,\"ticks\":\"\"},\"type\":\"contourcarpet\"}],\"heatmap\":[{\"colorbar\":{\"outlinewidth\":0,\"ticks\":\"\"},\"colorscale\":[[0.0,\"#0d0887\"],[0.1111111111111111,\"#46039f\"],[0.2222222222222222,\"#7201a8\"],[0.3333333333333333,\"#9c179e\"],[0.4444444444444444,\"#bd3786\"],[0.5555555555555556,\"#d8576b\"],[0.6666666666666666,\"#ed7953\"],[0.7777777777777778,\"#fb9f3a\"],[0.8888888888888888,\"#fdca26\"],[1.0,\"#f0f921\"]],\"type\":\"heatmap\"}],\"heatmapgl\":[{\"colorbar\":{\"outlinewidth\":0,\"ticks\":\"\"},\"colorscale\":[[0.0,\"#0d0887\"],[0.1111111111111111,\"#46039f\"],[0.2222222222222222,\"#7201a8\"],[0.3333333333333333,\"#9c179e\"],[0.4444444444444444,\"#bd3786\"],[0.5555555555555556,\"#d8576b\"],[0.6666666666666666,\"#ed7953\"],[0.7777777777777778,\"#fb9f3a\"],[0.8888888888888888,\"#fdca26\"],[1.0,\"#f0f921\"]],\"type\":\"heatmapgl\"}],\"histogram\":[{\"marker\":{\"pattern\":{\"fillmode\":\"overlay\",\"size\":10,\"solidity\":0.2}},\"type\":\"histogram\"}],\"histogram2d\":[{\"colorbar\":{\"outlinewidth\":0,\"ticks\":\"\"},\"colorscale\":[[0.0,\"#0d0887\"],[0.1111111111111111,\"#46039f\"],[0.2222222222222222,\"#7201a8\"],[0.3333333333333333,\"#9c179e\"],[0.4444444444444444,\"#bd3786\"],[0.5555555555555556,\"#d8576b\"],[0.6666666666666666,\"#ed7953\"],[0.7777777777777778,\"#fb9f3a\"],[0.8888888888888888,\"#fdca26\"],[1.0,\"#f0f921\"]],\"type\":\"histogram2d\"}],\"histogram2dcontour\":[{\"colorbar\":{\"outlinewidth\":0,\"ticks\":\"\"},\"colorscale\":[[0.0,\"#0d0887\"],[0.1111111111111111,\"#46039f\"],[0.2222222222222222,\"#7201a8\"],[0.3333333333333333,\"#9c179e\"],[0.4444444444444444,\"#bd3786\"],[0.5555555555555556,\"#d8576b\"],[0.6666666666666666,\"#ed7953\"],[0.7777777777777778,\"#fb9f3a\"],[0.8888888888888888,\"#fdca26\"],[1.0,\"#f0f921\"]],\"type\":\"histogram2dcontour\"}],\"mesh3d\":[{\"colorbar\":{\"outlinewidth\":0,\"ticks\":\"\"},\"type\":\"mesh3d\"}],\"parcoords\":[{\"line\":{\"colorbar\":{\"outlinewidth\":0,\"ticks\":\"\"}},\"type\":\"parcoords\"}],\"pie\":[{\"automargin\":true,\"type\":\"pie\"}],\"scatter\":[{\"marker\":{\"colorbar\":{\"outlinewidth\":0,\"ticks\":\"\"}},\"type\":\"scatter\"}],\"scatter3d\":[{\"line\":{\"colorbar\":{\"outlinewidth\":0,\"ticks\":\"\"}},\"marker\":{\"colorbar\":{\"outlinewidth\":0,\"ticks\":\"\"}},\"type\":\"scatter3d\"}],\"scattercarpet\":[{\"marker\":{\"colorbar\":{\"outlinewidth\":0,\"ticks\":\"\"}},\"type\":\"scattercarpet\"}],\"scattergeo\":[{\"marker\":{\"colorbar\":{\"outlinewidth\":0,\"ticks\":\"\"}},\"type\":\"scattergeo\"}],\"scattergl\":[{\"marker\":{\"colorbar\":{\"outlinewidth\":0,\"ticks\":\"\"}},\"type\":\"scattergl\"}],\"scattermapbox\":[{\"marker\":{\"colorbar\":{\"outlinewidth\":0,\"ticks\":\"\"}},\"type\":\"scattermapbox\"}],\"scatterpolar\":[{\"marker\":{\"colorbar\":{\"outlinewidth\":0,\"ticks\":\"\"}},\"type\":\"scatterpolar\"}],\"scatterpolargl\":[{\"marker\":{\"colorbar\":{\"outlinewidth\":0,\"ticks\":\"\"}},\"type\":\"scatterpolargl\"}],\"scatterternary\":[{\"marker\":{\"colorbar\":{\"outlinewidth\":0,\"ticks\":\"\"}},\"type\":\"scatterternary\"}],\"surface\":[{\"colorbar\":{\"outlinewidth\":0,\"ticks\":\"\"},\"colorscale\":[[0.0,\"#0d0887\"],[0.1111111111111111,\"#46039f\"],[0.2222222222222222,\"#7201a8\"],[0.3333333333333333,\"#9c179e\"],[0.4444444444444444,\"#bd3786\"],[0.5555555555555556,\"#d8576b\"],[0.6666666666666666,\"#ed7953\"],[0.7777777777777778,\"#fb9f3a\"],[0.8888888888888888,\"#fdca26\"],[1.0,\"#f0f921\"]],\"type\":\"surface\"}],\"table\":[{\"cells\":{\"fill\":{\"color\":\"#EBF0F8\"},\"line\":{\"color\":\"white\"}},\"header\":{\"fill\":{\"color\":\"#C8D4E3\"},\"line\":{\"color\":\"white\"}},\"type\":\"table\"}]},\"layout\":{\"annotationdefaults\":{\"arrowcolor\":\"#2a3f5f\",\"arrowhead\":0,\"arrowwidth\":1},\"autotypenumbers\":\"strict\",\"coloraxis\":{\"colorbar\":{\"outlinewidth\":0,\"ticks\":\"\"}},\"colorscale\":{\"diverging\":[[0,\"#8e0152\"],[0.1,\"#c51b7d\"],[0.2,\"#de77ae\"],[0.3,\"#f1b6da\"],[0.4,\"#fde0ef\"],[0.5,\"#f7f7f7\"],[0.6,\"#e6f5d0\"],[0.7,\"#b8e186\"],[0.8,\"#7fbc41\"],[0.9,\"#4d9221\"],[1,\"#276419\"]],\"sequential\":[[0.0,\"#0d0887\"],[0.1111111111111111,\"#46039f\"],[0.2222222222222222,\"#7201a8\"],[0.3333333333333333,\"#9c179e\"],[0.4444444444444444,\"#bd3786\"],[0.5555555555555556,\"#d8576b\"],[0.6666666666666666,\"#ed7953\"],[0.7777777777777778,\"#fb9f3a\"],[0.8888888888888888,\"#fdca26\"],[1.0,\"#f0f921\"]],\"sequentialminus\":[[0.0,\"#0d0887\"],[0.1111111111111111,\"#46039f\"],[0.2222222222222222,\"#7201a8\"],[0.3333333333333333,\"#9c179e\"],[0.4444444444444444,\"#bd3786\"],[0.5555555555555556,\"#d8576b\"],[0.6666666666666666,\"#ed7953\"],[0.7777777777777778,\"#fb9f3a\"],[0.8888888888888888,\"#fdca26\"],[1.0,\"#f0f921\"]]},\"colorway\":[\"#636efa\",\"#EF553B\",\"#00cc96\",\"#ab63fa\",\"#FFA15A\",\"#19d3f3\",\"#FF6692\",\"#B6E880\",\"#FF97FF\",\"#FECB52\"],\"font\":{\"color\":\"#2a3f5f\"},\"geo\":{\"bgcolor\":\"white\",\"lakecolor\":\"white\",\"landcolor\":\"#E5ECF6\",\"showlakes\":true,\"showland\":true,\"subunitcolor\":\"white\"},\"hoverlabel\":{\"align\":\"left\"},\"hovermode\":\"closest\",\"mapbox\":{\"style\":\"light\"},\"paper_bgcolor\":\"white\",\"plot_bgcolor\":\"#E5ECF6\",\"polar\":{\"angularaxis\":{\"gridcolor\":\"white\",\"linecolor\":\"white\",\"ticks\":\"\"},\"bgcolor\":\"#E5ECF6\",\"radialaxis\":{\"gridcolor\":\"white\",\"linecolor\":\"white\",\"ticks\":\"\"}},\"scene\":{\"xaxis\":{\"backgroundcolor\":\"#E5ECF6\",\"gridcolor\":\"white\",\"gridwidth\":2,\"linecolor\":\"white\",\"showbackground\":true,\"ticks\":\"\",\"zerolinecolor\":\"white\"},\"yaxis\":{\"backgroundcolor\":\"#E5ECF6\",\"gridcolor\":\"white\",\"gridwidth\":2,\"linecolor\":\"white\",\"showbackground\":true,\"ticks\":\"\",\"zerolinecolor\":\"white\"},\"zaxis\":{\"backgroundcolor\":\"#E5ECF6\",\"gridcolor\":\"white\",\"gridwidth\":2,\"linecolor\":\"white\",\"showbackground\":true,\"ticks\":\"\",\"zerolinecolor\":\"white\"}},\"shapedefaults\":{\"line\":{\"color\":\"#2a3f5f\"}},\"ternary\":{\"aaxis\":{\"gridcolor\":\"white\",\"linecolor\":\"white\",\"ticks\":\"\"},\"baxis\":{\"gridcolor\":\"white\",\"linecolor\":\"white\",\"ticks\":\"\"},\"bgcolor\":\"#E5ECF6\",\"caxis\":{\"gridcolor\":\"white\",\"linecolor\":\"white\",\"ticks\":\"\"}},\"title\":{\"x\":0.05},\"xaxis\":{\"automargin\":true,\"gridcolor\":\"white\",\"linecolor\":\"white\",\"ticks\":\"\",\"title\":{\"standoff\":15},\"zerolinecolor\":\"white\",\"zerolinewidth\":2},\"yaxis\":{\"automargin\":true,\"gridcolor\":\"white\",\"linecolor\":\"white\",\"ticks\":\"\",\"title\":{\"standoff\":15},\"zerolinecolor\":\"white\",\"zerolinewidth\":2}}},\"mapbox\":{\"domain\":{\"x\":[0.0,1.0],\"y\":[0.0,1.0]},\"center\":{\"lat\":40.82078249999999,\"lon\":-73.945041},\"zoom\":13,\"style\":\"carto-positron\"},\"legend\":{\"tracegroupgap\":0,\"itemsizing\":\"constant\"},\"margin\":{\"t\":60}},                        {\"responsive\": true}                    ).then(function(){\n",
              "                            \n",
              "var gd = document.getElementById('4ca3a918-1e9e-4b97-9a9f-cc0ca2e7e4f6');\n",
              "var x = new MutationObserver(function (mutations, observer) {{\n",
              "        var display = window.getComputedStyle(gd).display;\n",
              "        if (!display || display === 'none') {{\n",
              "            console.log([gd, 'removed!']);\n",
              "            Plotly.purge(gd);\n",
              "            observer.disconnect();\n",
              "        }}\n",
              "}});\n",
              "\n",
              "// Listen for the removal of the full notebook cells\n",
              "var notebookContainer = gd.closest('#notebook-container');\n",
              "if (notebookContainer) {{\n",
              "    x.observe(notebookContainer, {childList: true});\n",
              "}}\n",
              "\n",
              "// Listen for the clearing of the current output cell\n",
              "var outputEl = gd.closest('.output');\n",
              "if (outputEl) {{\n",
              "    x.observe(outputEl, {childList: true});\n",
              "}}\n",
              "\n",
              "                        })                };                            </script>        </div>\n",
              "</body>\n",
              "</html>"
            ]
          },
          "metadata": {}
        }
      ]
    }
  ]
}